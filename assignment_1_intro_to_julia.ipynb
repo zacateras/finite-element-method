{
 "cells": [
  {
   "cell_type": "markdown",
   "metadata": {},
   "source": [
    "## Vectors"
   ]
  },
  {
   "cell_type": "code",
   "execution_count": 3,
   "metadata": {},
   "outputs": [],
   "source": [
    "a = [10; 20; 30];"
   ]
  },
  {
   "cell_type": "code",
   "execution_count": 5,
   "metadata": {},
   "outputs": [
    {
     "data": {
      "text/plain": [
       "10"
      ]
     },
     "execution_count": 5,
     "metadata": {},
     "output_type": "execute_result"
    }
   ],
   "source": [
    "# first\n",
    "a[1]"
   ]
  },
  {
   "cell_type": "code",
   "execution_count": 13,
   "metadata": {},
   "outputs": [
    {
     "data": {
      "text/plain": [
       "2-element Array{Int64,1}:\n",
       " 20\n",
       " 30"
      ]
     },
     "execution_count": 13,
     "metadata": {},
     "output_type": "execute_result"
    }
   ],
   "source": [
    "[a[2]; a[3]]"
   ]
  },
  {
   "cell_type": "code",
   "execution_count": 12,
   "metadata": {},
   "outputs": [
    {
     "data": {
      "text/plain": [
       "1×3 Array{Int64,2}:\n",
       " 10  20  30"
      ]
     },
     "execution_count": 12,
     "metadata": {},
     "output_type": "execute_result"
    }
   ],
   "source": [
    "[10 20 30]"
   ]
  },
  {
   "cell_type": "code",
   "execution_count": 11,
   "metadata": {},
   "outputs": [
    {
     "data": {
      "text/plain": [
       "3-element Array{Int64,1}:\n",
       " 10\n",
       " 20\n",
       " 30"
      ]
     },
     "execution_count": 11,
     "metadata": {},
     "output_type": "execute_result"
    }
   ],
   "source": [
    "[10; 20; 30]"
   ]
  },
  {
   "cell_type": "code",
   "execution_count": 14,
   "metadata": {},
   "outputs": [
    {
     "data": {
      "text/plain": [
       "3-element Array{Int64,1}:\n",
       " 30\n",
       " 60\n",
       " 90"
      ]
     },
     "execution_count": 14,
     "metadata": {},
     "output_type": "execute_result"
    }
   ],
   "source": [
    "3 * a"
   ]
  },
  {
   "cell_type": "code",
   "execution_count": 15,
   "metadata": {},
   "outputs": [],
   "source": [
    "b = [.1 ; .2 ;  .3];"
   ]
  },
  {
   "cell_type": "code",
   "execution_count": 16,
   "metadata": {},
   "outputs": [
    {
     "data": {
      "text/plain": [
       "3-element Array{Float64,1}:\n",
       " 10.1\n",
       " 20.2\n",
       " 30.3"
      ]
     },
     "execution_count": 16,
     "metadata": {},
     "output_type": "execute_result"
    }
   ],
   "source": [
    "a + b"
   ]
  },
  {
   "cell_type": "code",
   "execution_count": 18,
   "metadata": {},
   "outputs": [
    {
     "data": {
      "text/plain": [
       "14.0"
      ]
     },
     "execution_count": 18,
     "metadata": {},
     "output_type": "execute_result"
    }
   ],
   "source": [
    "a' * b"
   ]
  },
  {
   "cell_type": "code",
   "execution_count": 19,
   "metadata": {},
   "outputs": [
    {
     "data": {
      "text/plain": [
       "3-element Array{Float64,1}:\n",
       " 1.0\n",
       " 4.0\n",
       " 9.0"
      ]
     },
     "execution_count": 19,
     "metadata": {},
     "output_type": "execute_result"
    }
   ],
   "source": [
    "a .* b"
   ]
  },
  {
   "cell_type": "code",
   "execution_count": 20,
   "metadata": {},
   "outputs": [
    {
     "data": {
      "text/plain": [
       "3×3 Array{Float64,2}:\n",
       " 1.0  2.0  3.0\n",
       " 2.0  4.0  6.0\n",
       " 3.0  6.0  9.0"
      ]
     },
     "execution_count": 20,
     "metadata": {},
     "output_type": "execute_result"
    }
   ],
   "source": [
    "a * transpose(b)"
   ]
  },
  {
   "cell_type": "markdown",
   "metadata": {},
   "source": [
    "## Plots"
   ]
  },
  {
   "cell_type": "code",
   "execution_count": 27,
   "metadata": {},
   "outputs": [
    {
     "name": "stdout",
     "output_type": "stream",
     "text": [
      "\u001b[32m\u001b[1m Resolving\u001b[22m\u001b[39m package versions...\n",
      "\u001b[32m\u001b[1m  Updating\u001b[22m\u001b[39m `~/.julia/environments/v1.0/Project.toml`\n",
      "\u001b[90m [no changes]\u001b[39m\n",
      "\u001b[32m\u001b[1m  Updating\u001b[22m\u001b[39m `~/.julia/environments/v1.0/Manifest.toml`\n",
      "\u001b[90m [no changes]\u001b[39m\n"
     ]
    }
   ],
   "source": [
    "using Pkg\n",
    "Pkg.add(\"Plots\")"
   ]
  },
  {
   "cell_type": "code",
   "execution_count": 29,
   "metadata": {},
   "outputs": [
    {
     "name": "stderr",
     "output_type": "stream",
     "text": [
      "┌ Info: Precompiling Plots [91a5bcdd-55d7-5caf-9e0b-520d859cae80]\n",
      "└ @ Base loading.jl:1192\n"
     ]
    }
   ],
   "source": [
    "using Plots"
   ]
  },
  {
   "cell_type": "code",
   "execution_count": 32,
   "metadata": {},
   "outputs": [
    {
     "name": "stdout",
     "output_type": "stream",
     "text": [
      "search: \u001b[0m\u001b[1mp\u001b[22m\u001b[0m\u001b[1ml\u001b[22m\u001b[0m\u001b[1mo\u001b[22m\u001b[0m\u001b[1mt\u001b[22m \u001b[0m\u001b[1mp\u001b[22m\u001b[0m\u001b[1ml\u001b[22m\u001b[0m\u001b[1mo\u001b[22m\u001b[0m\u001b[1mt\u001b[22m! \u001b[0m\u001b[1mp\u001b[22m\u001b[0m\u001b[1ml\u001b[22m\u001b[0m\u001b[1mo\u001b[22m\u001b[0m\u001b[1mt\u001b[22mly \u001b[0m\u001b[1mp\u001b[22m\u001b[0m\u001b[1ml\u001b[22m\u001b[0m\u001b[1mo\u001b[22m\u001b[0m\u001b[1mt\u001b[22m3d \u001b[0m\u001b[1mP\u001b[22m\u001b[0m\u001b[1ml\u001b[22m\u001b[0m\u001b[1mo\u001b[22m\u001b[0m\u001b[1mt\u001b[22ms \u001b[0m\u001b[1mp\u001b[22m\u001b[0m\u001b[1ml\u001b[22m\u001b[0m\u001b[1mo\u001b[22m\u001b[0m\u001b[1mt\u001b[22m3d! \u001b[0m\u001b[1mp\u001b[22m\u001b[0m\u001b[1ml\u001b[22m\u001b[0m\u001b[1mo\u001b[22m\u001b[0m\u001b[1mt\u001b[22mlyjs \u001b[0m\u001b[1mp\u001b[22m\u001b[0m\u001b[1ml\u001b[22m\u001b[0m\u001b[1mo\u001b[22m\u001b[0m\u001b[1mt\u001b[22mattr \u001b[0m\u001b[1mp\u001b[22m\u001b[0m\u001b[1ml\u001b[22m\u001b[0m\u001b[1mo\u001b[22m\u001b[0m\u001b[1mt\u001b[22marea\n",
      "\n"
     ]
    },
    {
     "data": {
      "text/latex": [
       "The main plot command. Use \\texttt{plot} to create a new plot object, and \\texttt{plot!} to add to an existing one:\n",
       "\n",
       "\\begin{verbatim}\n",
       "    plot(args...; kw...)                  # creates a new plot window, and sets it to be the current\n",
       "    plot!(args...; kw...)                 # adds to the `current`\n",
       "    plot!(plotobj, args...; kw...)        # adds to the plot `plotobj`\n",
       "\\end{verbatim}\n",
       "There are lots of ways to pass in data, and lots of keyword arguments... just try it and it will likely work as expected. When you pass in matrices, it splits by columns. To see the list of available attributes, use the \\texttt{plotattr([attr])} function, where \\texttt{attr} is the symbol \\texttt{:Series:}, \\texttt{:Subplot:}, \\texttt{:Plot} or \\texttt{:Axis}. Pass any attribute to \\texttt{plotattr} as a String to look up its docstring; e.g. \\texttt{plotattr(\"seriestype\")}.\n",
       "\n"
      ],
      "text/markdown": [
       "The main plot command. Use `plot` to create a new plot object, and `plot!` to add to an existing one:\n",
       "\n",
       "```\n",
       "    plot(args...; kw...)                  # creates a new plot window, and sets it to be the current\n",
       "    plot!(args...; kw...)                 # adds to the `current`\n",
       "    plot!(plotobj, args...; kw...)        # adds to the plot `plotobj`\n",
       "```\n",
       "\n",
       "There are lots of ways to pass in data, and lots of keyword arguments... just try it and it will likely work as expected. When you pass in matrices, it splits by columns. To see the list of available attributes, use the `plotattr([attr])` function, where `attr` is the symbol `:Series:`, `:Subplot:`, `:Plot` or `:Axis`. Pass any attribute to `plotattr` as a String to look up its docstring; e.g. `plotattr(\"seriestype\")`.\n"
      ],
      "text/plain": [
       "  The main plot command. Use \u001b[36mplot\u001b[39m to create a new plot object, and \u001b[36mplot!\u001b[39m to\n",
       "  add to an existing one:\n",
       "\n",
       "\u001b[36m      plot(args...; kw...)                  # creates a new plot window, and sets it to be the current\u001b[39m\n",
       "\u001b[36m      plot!(args...; kw...)                 # adds to the `current`\u001b[39m\n",
       "\u001b[36m      plot!(plotobj, args...; kw...)        # adds to the plot `plotobj`\u001b[39m\n",
       "\n",
       "  There are lots of ways to pass in data, and lots of keyword arguments...\n",
       "  just try it and it will likely work as expected. When you pass in matrices,\n",
       "  it splits by columns. To see the list of available attributes, use the\n",
       "  \u001b[36mplotattr([attr])\u001b[39m function, where \u001b[36mattr\u001b[39m is the symbol \u001b[36m:Series:\u001b[39m, \u001b[36m:Subplot:\u001b[39m,\n",
       "  \u001b[36m:Plot\u001b[39m or \u001b[36m:Axis\u001b[39m. Pass any attribute to \u001b[36mplotattr\u001b[39m as a String to look up its\n",
       "  docstring; e.g. \u001b[36mplotattr(\"seriestype\")\u001b[39m."
      ]
     },
     "execution_count": 32,
     "metadata": {},
     "output_type": "execute_result"
    }
   ],
   "source": [
    "?plot"
   ]
  },
  {
   "cell_type": "code",
   "execution_count": 38,
   "metadata": {},
   "outputs": [
    {
     "data": {
      "image/svg+xml": [
       "<?xml version=\"1.0\" encoding=\"utf-8\"?>\n",
       "<svg xmlns=\"http://www.w3.org/2000/svg\" xmlns:xlink=\"http://www.w3.org/1999/xlink\" width=\"600\" height=\"400\" viewBox=\"0 0 2400 1600\">\n",
       "<defs>\n",
       "  <clipPath id=\"clip8500\">\n",
       "    <rect x=\"0\" y=\"0\" width=\"2000\" height=\"2000\"/>\n",
       "  </clipPath>\n",
       "</defs>\n",
       "<defs>\n",
       "  <clipPath id=\"clip8501\">\n",
       "    <rect x=\"0\" y=\"0\" width=\"2400\" height=\"1600\"/>\n",
       "  </clipPath>\n",
       "</defs>\n",
       "<polygon clip-path=\"url(#clip8501)\" points=\"\n",
       "0,1600 2400,1600 2400,0 0,0 \n",
       "  \" fill=\"#ffffff\" fill-rule=\"evenodd\" fill-opacity=\"1\"/>\n",
       "<defs>\n",
       "  <clipPath id=\"clip8502\">\n",
       "    <rect x=\"480\" y=\"0\" width=\"1681\" height=\"1600\"/>\n",
       "  </clipPath>\n",
       "</defs>\n",
       "<polygon clip-path=\"url(#clip8501)\" points=\"\n",
       "148.013,1503.47 2321.26,1503.47 2321.26,47.2441 148.013,47.2441 \n",
       "  \" fill=\"#ffffff\" fill-rule=\"evenodd\" fill-opacity=\"1\"/>\n",
       "<defs>\n",
       "  <clipPath id=\"clip8503\">\n",
       "    <rect x=\"148\" y=\"47\" width=\"2174\" height=\"1457\"/>\n",
       "  </clipPath>\n",
       "</defs>\n",
       "<polyline clip-path=\"url(#clip8503)\" style=\"stroke:#000000; stroke-width:2; stroke-opacity:0.1; fill:none\" points=\"\n",
       "  209.52,1503.47 209.52,47.2441 \n",
       "  \"/>\n",
       "<polyline clip-path=\"url(#clip8503)\" style=\"stroke:#000000; stroke-width:2; stroke-opacity:0.1; fill:none\" points=\"\n",
       "  722.078,1503.47 722.078,47.2441 \n",
       "  \"/>\n",
       "<polyline clip-path=\"url(#clip8503)\" style=\"stroke:#000000; stroke-width:2; stroke-opacity:0.1; fill:none\" points=\"\n",
       "  1234.64,1503.47 1234.64,47.2441 \n",
       "  \"/>\n",
       "<polyline clip-path=\"url(#clip8503)\" style=\"stroke:#000000; stroke-width:2; stroke-opacity:0.1; fill:none\" points=\"\n",
       "  1747.19,1503.47 1747.19,47.2441 \n",
       "  \"/>\n",
       "<polyline clip-path=\"url(#clip8503)\" style=\"stroke:#000000; stroke-width:2; stroke-opacity:0.1; fill:none\" points=\"\n",
       "  2259.75,1503.47 2259.75,47.2441 \n",
       "  \"/>\n",
       "<polyline clip-path=\"url(#clip8503)\" style=\"stroke:#000000; stroke-width:2; stroke-opacity:0.1; fill:none\" points=\"\n",
       "  148.013,1466.86 2321.26,1466.86 \n",
       "  \"/>\n",
       "<polyline clip-path=\"url(#clip8503)\" style=\"stroke:#000000; stroke-width:2; stroke-opacity:0.1; fill:none\" points=\"\n",
       "  148.013,1007.39 2321.26,1007.39 \n",
       "  \"/>\n",
       "<polyline clip-path=\"url(#clip8503)\" style=\"stroke:#000000; stroke-width:2; stroke-opacity:0.1; fill:none\" points=\"\n",
       "  148.013,547.924 2321.26,547.924 \n",
       "  \"/>\n",
       "<polyline clip-path=\"url(#clip8503)\" style=\"stroke:#000000; stroke-width:2; stroke-opacity:0.1; fill:none\" points=\"\n",
       "  148.013,88.4582 2321.26,88.4582 \n",
       "  \"/>\n",
       "<polyline clip-path=\"url(#clip8501)\" style=\"stroke:#000000; stroke-width:4; stroke-opacity:1; fill:none\" points=\"\n",
       "  148.013,1503.47 2321.26,1503.47 \n",
       "  \"/>\n",
       "<polyline clip-path=\"url(#clip8501)\" style=\"stroke:#000000; stroke-width:4; stroke-opacity:1; fill:none\" points=\"\n",
       "  148.013,1503.47 148.013,47.2441 \n",
       "  \"/>\n",
       "<polyline clip-path=\"url(#clip8501)\" style=\"stroke:#000000; stroke-width:4; stroke-opacity:1; fill:none\" points=\"\n",
       "  209.52,1503.47 209.52,1481.63 \n",
       "  \"/>\n",
       "<polyline clip-path=\"url(#clip8501)\" style=\"stroke:#000000; stroke-width:4; stroke-opacity:1; fill:none\" points=\"\n",
       "  722.078,1503.47 722.078,1481.63 \n",
       "  \"/>\n",
       "<polyline clip-path=\"url(#clip8501)\" style=\"stroke:#000000; stroke-width:4; stroke-opacity:1; fill:none\" points=\"\n",
       "  1234.64,1503.47 1234.64,1481.63 \n",
       "  \"/>\n",
       "<polyline clip-path=\"url(#clip8501)\" style=\"stroke:#000000; stroke-width:4; stroke-opacity:1; fill:none\" points=\"\n",
       "  1747.19,1503.47 1747.19,1481.63 \n",
       "  \"/>\n",
       "<polyline clip-path=\"url(#clip8501)\" style=\"stroke:#000000; stroke-width:4; stroke-opacity:1; fill:none\" points=\"\n",
       "  2259.75,1503.47 2259.75,1481.63 \n",
       "  \"/>\n",
       "<polyline clip-path=\"url(#clip8501)\" style=\"stroke:#000000; stroke-width:4; stroke-opacity:1; fill:none\" points=\"\n",
       "  148.013,1466.86 180.612,1466.86 \n",
       "  \"/>\n",
       "<polyline clip-path=\"url(#clip8501)\" style=\"stroke:#000000; stroke-width:4; stroke-opacity:1; fill:none\" points=\"\n",
       "  148.013,1007.39 180.612,1007.39 \n",
       "  \"/>\n",
       "<polyline clip-path=\"url(#clip8501)\" style=\"stroke:#000000; stroke-width:4; stroke-opacity:1; fill:none\" points=\"\n",
       "  148.013,547.924 180.612,547.924 \n",
       "  \"/>\n",
       "<polyline clip-path=\"url(#clip8501)\" style=\"stroke:#000000; stroke-width:4; stroke-opacity:1; fill:none\" points=\"\n",
       "  148.013,88.4582 180.612,88.4582 \n",
       "  \"/>\n",
       "<g clip-path=\"url(#clip8501)\">\n",
       "<text style=\"fill:#000000; fill-opacity:1; font-family:Arial,Helvetica Neue,Helvetica,sans-serif; font-size:48px; text-anchor:middle;\" transform=\"rotate(0, 209.52, 1557.47)\" x=\"209.52\" y=\"1557.47\">1.0</text>\n",
       "</g>\n",
       "<g clip-path=\"url(#clip8501)\">\n",
       "<text style=\"fill:#000000; fill-opacity:1; font-family:Arial,Helvetica Neue,Helvetica,sans-serif; font-size:48px; text-anchor:middle;\" transform=\"rotate(0, 722.078, 1557.47)\" x=\"722.078\" y=\"1557.47\">1.5</text>\n",
       "</g>\n",
       "<g clip-path=\"url(#clip8501)\">\n",
       "<text style=\"fill:#000000; fill-opacity:1; font-family:Arial,Helvetica Neue,Helvetica,sans-serif; font-size:48px; text-anchor:middle;\" transform=\"rotate(0, 1234.64, 1557.47)\" x=\"1234.64\" y=\"1557.47\">2.0</text>\n",
       "</g>\n",
       "<g clip-path=\"url(#clip8501)\">\n",
       "<text style=\"fill:#000000; fill-opacity:1; font-family:Arial,Helvetica Neue,Helvetica,sans-serif; font-size:48px; text-anchor:middle;\" transform=\"rotate(0, 1747.19, 1557.47)\" x=\"1747.19\" y=\"1557.47\">2.5</text>\n",
       "</g>\n",
       "<g clip-path=\"url(#clip8501)\">\n",
       "<text style=\"fill:#000000; fill-opacity:1; font-family:Arial,Helvetica Neue,Helvetica,sans-serif; font-size:48px; text-anchor:middle;\" transform=\"rotate(0, 2259.75, 1557.47)\" x=\"2259.75\" y=\"1557.47\">3.0</text>\n",
       "</g>\n",
       "<g clip-path=\"url(#clip8501)\">\n",
       "<text style=\"fill:#000000; fill-opacity:1; font-family:Arial,Helvetica Neue,Helvetica,sans-serif; font-size:48px; text-anchor:end;\" transform=\"rotate(0, 124.013, 1484.36)\" x=\"124.013\" y=\"1484.36\">0</text>\n",
       "</g>\n",
       "<g clip-path=\"url(#clip8501)\">\n",
       "<text style=\"fill:#000000; fill-opacity:1; font-family:Arial,Helvetica Neue,Helvetica,sans-serif; font-size:48px; text-anchor:end;\" transform=\"rotate(0, 124.013, 1024.89)\" x=\"124.013\" y=\"1024.89\">10</text>\n",
       "</g>\n",
       "<g clip-path=\"url(#clip8501)\">\n",
       "<text style=\"fill:#000000; fill-opacity:1; font-family:Arial,Helvetica Neue,Helvetica,sans-serif; font-size:48px; text-anchor:end;\" transform=\"rotate(0, 124.013, 565.424)\" x=\"124.013\" y=\"565.424\">20</text>\n",
       "</g>\n",
       "<g clip-path=\"url(#clip8501)\">\n",
       "<text style=\"fill:#000000; fill-opacity:1; font-family:Arial,Helvetica Neue,Helvetica,sans-serif; font-size:48px; text-anchor:end;\" transform=\"rotate(0, 124.013, 105.958)\" x=\"124.013\" y=\"105.958\">30</text>\n",
       "</g>\n",
       "<polyline clip-path=\"url(#clip8503)\" style=\"stroke:#009af9; stroke-width:4; stroke-opacity:1; fill:none\" points=\"\n",
       "  209.52,1007.39 1234.64,547.924 2259.75,88.4582 \n",
       "  \"/>\n",
       "<polyline clip-path=\"url(#clip8503)\" style=\"stroke:#e26f46; stroke-width:4; stroke-opacity:1; fill:none\" points=\"\n",
       "  209.52,1462.26 1234.64,1457.67 2259.75,1453.07 \n",
       "  \"/>\n",
       "<polygon clip-path=\"url(#clip8501)\" points=\"\n",
       "1982.5,312.204 2249.26,312.204 2249.26,130.764 1982.5,130.764 \n",
       "  \" fill=\"#ffffff\" fill-rule=\"evenodd\" fill-opacity=\"1\"/>\n",
       "<polyline clip-path=\"url(#clip8501)\" style=\"stroke:#000000; stroke-width:4; stroke-opacity:1; fill:none\" points=\"\n",
       "  1982.5,312.204 2249.26,312.204 2249.26,130.764 1982.5,130.764 1982.5,312.204 \n",
       "  \"/>\n",
       "<polyline clip-path=\"url(#clip8501)\" style=\"stroke:#009af9; stroke-width:4; stroke-opacity:1; fill:none\" points=\"\n",
       "  2006.5,191.244 2150.5,191.244 \n",
       "  \"/>\n",
       "<g clip-path=\"url(#clip8501)\">\n",
       "<text style=\"fill:#000000; fill-opacity:1; font-family:Arial,Helvetica Neue,Helvetica,sans-serif; font-size:48px; text-anchor:start;\" transform=\"rotate(0, 2174.5, 208.744)\" x=\"2174.5\" y=\"208.744\">a</text>\n",
       "</g>\n",
       "<polyline clip-path=\"url(#clip8501)\" style=\"stroke:#e26f46; stroke-width:4; stroke-opacity:1; fill:none\" points=\"\n",
       "  2006.5,251.724 2150.5,251.724 \n",
       "  \"/>\n",
       "<g clip-path=\"url(#clip8501)\">\n",
       "<text style=\"fill:#000000; fill-opacity:1; font-family:Arial,Helvetica Neue,Helvetica,sans-serif; font-size:48px; text-anchor:start;\" transform=\"rotate(0, 2174.5, 269.224)\" x=\"2174.5\" y=\"269.224\">b</text>\n",
       "</g>\n",
       "</svg>\n"
      ]
     },
     "execution_count": 38,
     "metadata": {},
     "output_type": "execute_result"
    }
   ],
   "source": [
    "plot(a, label = \"a\")\n",
    "plot!(b, label = \"b\")"
   ]
  },
  {
   "cell_type": "markdown",
   "metadata": {},
   "source": [
    "## Matrices"
   ]
  },
  {
   "cell_type": "code",
   "execution_count": 34,
   "metadata": {},
   "outputs": [
    {
     "data": {
      "text/plain": [
       "3×3 Array{Int64,2}:\n",
       " 1  2   3\n",
       " 2  4   8\n",
       " 3  9  27"
      ]
     },
     "execution_count": 34,
     "metadata": {},
     "output_type": "execute_result"
    }
   ],
   "source": [
    "A = [1 2 3; 2 4 8; 3 9 27]"
   ]
  },
  {
   "cell_type": "code",
   "execution_count": 49,
   "metadata": {},
   "outputs": [
    {
     "name": "stdout",
     "output_type": "stream",
     "text": [
      "row: [1, 2, 3], column: [1, 2, 3], corners: [1 3; 3 27]"
     ]
    }
   ],
   "source": [
    "print(\"row: \")\n",
    "print(A[1, :])\n",
    "print(\", column: \")\n",
    "print(A[:, 1])\n",
    "print(\", corners: \")\n",
    "print(A[[1,3], [1,3]])"
   ]
  },
  {
   "cell_type": "code",
   "execution_count": 60,
   "metadata": {},
   "outputs": [],
   "source": [
    "using LinearAlgebra"
   ]
  },
  {
   "cell_type": "code",
   "execution_count": 61,
   "metadata": {},
   "outputs": [
    {
     "data": {
      "text/plain": [
       "3-element Array{Int64,1}:\n",
       "  1\n",
       "  4\n",
       " 27"
      ]
     },
     "execution_count": 61,
     "metadata": {},
     "output_type": "execute_result"
    }
   ],
   "source": [
    "diag(A)"
   ]
  },
  {
   "cell_type": "code",
   "execution_count": 63,
   "metadata": {},
   "outputs": [
    {
     "data": {
      "text/plain": [
       "3×3 Array{Int64,2}:\n",
       " 1  0   0\n",
       " 2  4   0\n",
       " 3  9  27"
      ]
     },
     "execution_count": 63,
     "metadata": {},
     "output_type": "execute_result"
    }
   ],
   "source": [
    "tril(A)"
   ]
  },
  {
   "cell_type": "code",
   "execution_count": 64,
   "metadata": {},
   "outputs": [
    {
     "data": {
      "text/plain": [
       "3×3 Array{Int64,2}:\n",
       " 1  2   3\n",
       " 0  4   8\n",
       " 0  0  27"
      ]
     },
     "execution_count": 64,
     "metadata": {},
     "output_type": "execute_result"
    }
   ],
   "source": [
    "triu(A)"
   ]
  },
  {
   "cell_type": "code",
   "execution_count": 65,
   "metadata": {},
   "outputs": [
    {
     "data": {
      "text/plain": [
       "3×3 Transpose{Int64,Array{Int64,2}}:\n",
       " 1  2   3\n",
       " 2  4   9\n",
       " 3  8  27"
      ]
     },
     "execution_count": 65,
     "metadata": {},
     "output_type": "execute_result"
    }
   ],
   "source": [
    "B = transpose(A)"
   ]
  },
  {
   "cell_type": "code",
   "execution_count": 66,
   "metadata": {},
   "outputs": [
    {
     "data": {
      "text/plain": [
       "3×3 Array{Int64,2}:\n",
       " 1  2   3\n",
       " 2  4   8\n",
       " 3  9  27"
      ]
     },
     "execution_count": 66,
     "metadata": {},
     "output_type": "execute_result"
    }
   ],
   "source": [
    "C = transpose(B)"
   ]
  },
  {
   "cell_type": "markdown",
   "metadata": {},
   "source": [
    "Transposing the matrix two times gives us the same matrix."
   ]
  },
  {
   "cell_type": "code",
   "execution_count": 68,
   "metadata": {},
   "outputs": [
    {
     "data": {
      "text/plain": [
       "3×3 Array{Float64,2}:\n",
       " 0.0  0.0  0.0\n",
       " 0.0  0.0  0.0\n",
       " 0.0  0.0  0.0"
      ]
     },
     "execution_count": 68,
     "metadata": {},
     "output_type": "execute_result"
    }
   ],
   "source": [
    "zeros(3, 3)"
   ]
  },
  {
   "cell_type": "code",
   "execution_count": 96,
   "metadata": {},
   "outputs": [
    {
     "name": "stdout",
     "output_type": "stream",
     "text": [
      "Eye function is deprecated then I use some replacement:"
     ]
    },
    {
     "data": {
      "text/plain": [
       "3×3 Array{Float64,2}:\n",
       " 1.0  0.0  0.0\n",
       " 0.0  1.0  0.0\n",
       " 0.0  0.0  1.0"
      ]
     },
     "execution_count": 96,
     "metadata": {},
     "output_type": "execute_result"
    }
   ],
   "source": [
    "print(\"Eye function is deprecated then I use some replacement:\")\n",
    "eye3 = Matrix(I, 3, 3) .* ones(3, 3)"
   ]
  },
  {
   "cell_type": "code",
   "execution_count": 87,
   "metadata": {},
   "outputs": [
    {
     "data": {
      "text/plain": [
       "3×3 Array{Int64,2}:\n",
       "  5  10   15\n",
       " 10  20   40\n",
       " 15  45  135"
      ]
     },
     "execution_count": 87,
     "metadata": {},
     "output_type": "execute_result"
    }
   ],
   "source": [
    "5 * A"
   ]
  },
  {
   "cell_type": "code",
   "execution_count": 93,
   "metadata": {},
   "outputs": [
    {
     "data": {
      "text/plain": [
       "1"
      ]
     },
     "execution_count": 93,
     "metadata": {},
     "output_type": "execute_result"
    }
   ],
   "source": [
    "min(A...)"
   ]
  },
  {
   "cell_type": "code",
   "execution_count": 94,
   "metadata": {},
   "outputs": [
    {
     "data": {
      "text/plain": [
       "27"
      ]
     },
     "execution_count": 94,
     "metadata": {},
     "output_type": "execute_result"
    }
   ],
   "source": [
    "max(A...)"
   ]
  },
  {
   "cell_type": "code",
   "execution_count": 95,
   "metadata": {},
   "outputs": [
    {
     "data": {
      "text/plain": [
       "30.28200785945344"
      ]
     },
     "execution_count": 95,
     "metadata": {},
     "output_type": "execute_result"
    }
   ],
   "source": [
    "norm(A)"
   ]
  },
  {
   "cell_type": "code",
   "execution_count": 97,
   "metadata": {},
   "outputs": [
    {
     "data": {
      "text/plain": [
       "3×3 Array{Float64,2}:\n",
       " 1.0  0.0  0.0\n",
       " 0.0  1.0  0.0\n",
       " 0.0  0.0  1.0"
      ]
     },
     "execution_count": 97,
     "metadata": {},
     "output_type": "execute_result"
    }
   ],
   "source": [
    "B = eye3"
   ]
  },
  {
   "cell_type": "code",
   "execution_count": 98,
   "metadata": {},
   "outputs": [
    {
     "data": {
      "text/plain": [
       "3×3 Array{Float64,2}:\n",
       " 2.0  2.0   3.0\n",
       " 2.0  5.0   8.0\n",
       " 3.0  9.0  28.0"
      ]
     },
     "execution_count": 98,
     "metadata": {},
     "output_type": "execute_result"
    }
   ],
   "source": [
    "C = A + B"
   ]
  },
  {
   "cell_type": "code",
   "execution_count": 99,
   "metadata": {},
   "outputs": [
    {
     "data": {
      "text/plain": [
       "3×3 Array{Float64,2}:\n",
       " 2.0  2.0   3.0\n",
       " 2.0  5.0   8.0\n",
       " 3.0  9.0  28.0"
      ]
     },
     "execution_count": 99,
     "metadata": {},
     "output_type": "execute_result"
    }
   ],
   "source": [
    "C = B + A"
   ]
  },
  {
   "cell_type": "markdown",
   "metadata": {},
   "source": [
    "Arrays are the same. Addition is alternating operation."
   ]
  },
  {
   "cell_type": "code",
   "execution_count": 100,
   "metadata": {},
   "outputs": [
    {
     "data": {
      "text/plain": [
       "3×3 Array{Float64,2}:\n",
       " 1.0  2.0   3.0\n",
       " 2.0  4.0   8.0\n",
       " 3.0  9.0  27.0"
      ]
     },
     "execution_count": 100,
     "metadata": {},
     "output_type": "execute_result"
    }
   ],
   "source": [
    "C = A * B"
   ]
  },
  {
   "cell_type": "code",
   "execution_count": 101,
   "metadata": {},
   "outputs": [
    {
     "data": {
      "text/plain": [
       "3×3 Array{Float64,2}:\n",
       " 1.0  2.0   3.0\n",
       " 2.0  4.0   8.0\n",
       " 3.0  9.0  27.0"
      ]
     },
     "execution_count": 101,
     "metadata": {},
     "output_type": "execute_result"
    }
   ],
   "source": [
    "C = B * A"
   ]
  },
  {
   "cell_type": "code",
   "execution_count": 103,
   "metadata": {},
   "outputs": [],
   "source": [
    "B = ones(3, 3);"
   ]
  },
  {
   "cell_type": "code",
   "execution_count": 104,
   "metadata": {},
   "outputs": [
    {
     "data": {
      "text/plain": [
       "3×3 Array{Float64,2}:\n",
       "  6.0   6.0   6.0\n",
       " 14.0  14.0  14.0\n",
       " 39.0  39.0  39.0"
      ]
     },
     "execution_count": 104,
     "metadata": {},
     "output_type": "execute_result"
    }
   ],
   "source": [
    "C = A * B"
   ]
  },
  {
   "cell_type": "code",
   "execution_count": 105,
   "metadata": {},
   "outputs": [
    {
     "data": {
      "text/plain": [
       "3×3 Array{Float64,2}:\n",
       " 6.0  15.0  38.0\n",
       " 6.0  15.0  38.0\n",
       " 6.0  15.0  38.0"
      ]
     },
     "execution_count": 105,
     "metadata": {},
     "output_type": "execute_result"
    }
   ],
   "source": [
    "C = B * A"
   ]
  },
  {
   "cell_type": "markdown",
   "metadata": {},
   "source": [
    "First matrix has same values in every row, while the second in every column. According to matrix multiplication definition each cell is product of referring the row subvector of first matrix and column subvector of the second. Since one of matrix is ones it simplifies to rowwise or columnwise addition of all column/row values."
   ]
  },
  {
   "cell_type": "code",
   "execution_count": 106,
   "metadata": {},
   "outputs": [
    {
     "data": {
      "text/plain": [
       "3×3 Array{Int64,2}:\n",
       "  14   37  100\n",
       "  34   92  254\n",
       " 102  285  810"
      ]
     },
     "execution_count": 106,
     "metadata": {},
     "output_type": "execute_result"
    }
   ],
   "source": [
    "A * A"
   ]
  },
  {
   "cell_type": "code",
   "execution_count": 107,
   "metadata": {},
   "outputs": [
    {
     "data": {
      "text/plain": [
       "3×3 Array{Int64,2}:\n",
       " 1   4    9\n",
       " 4  16   64\n",
       " 9  81  729"
      ]
     },
     "execution_count": 107,
     "metadata": {},
     "output_type": "execute_result"
    }
   ],
   "source": [
    "A .* A"
   ]
  },
  {
   "cell_type": "code",
   "execution_count": 108,
   "metadata": {},
   "outputs": [],
   "source": [
    "# Put comment here"
   ]
  },
  {
   "cell_type": "markdown",
   "metadata": {},
   "source": [
    "## Triangular matrices"
   ]
  },
  {
   "cell_type": "markdown",
   "metadata": {},
   "source": [
    "#### Lower triangular"
   ]
  },
  {
   "cell_type": "code",
   "execution_count": 110,
   "metadata": {},
   "outputs": [],
   "source": [
    "A = [1 0 0 ; 2 4 0; 3 9 27];"
   ]
  },
  {
   "cell_type": "code",
   "execution_count": 111,
   "metadata": {},
   "outputs": [
    {
     "name": "stdout",
     "output_type": "stream",
     "text": [
      "search: \u001b[0m\u001b[1me\u001b[22m\u001b[0m\u001b[1mi\u001b[22m\u001b[0m\u001b[1mg\u001b[22men \u001b[0m\u001b[1me\u001b[22m\u001b[0m\u001b[1mi\u001b[22m\u001b[0m\u001b[1mg\u001b[22mmin \u001b[0m\u001b[1me\u001b[22m\u001b[0m\u001b[1mi\u001b[22m\u001b[0m\u001b[1mg\u001b[22mmax \u001b[0m\u001b[1me\u001b[22m\u001b[0m\u001b[1mi\u001b[22m\u001b[0m\u001b[1mg\u001b[22men! \u001b[0m\u001b[1mE\u001b[22m\u001b[0m\u001b[1mi\u001b[22m\u001b[0m\u001b[1mg\u001b[22men \u001b[0m\u001b[1me\u001b[22m\u001b[0m\u001b[1mi\u001b[22m\u001b[0m\u001b[1mg\u001b[22mvecs \u001b[0m\u001b[1me\u001b[22m\u001b[0m\u001b[1mi\u001b[22m\u001b[0m\u001b[1mg\u001b[22mvals \u001b[0m\u001b[1me\u001b[22m\u001b[0m\u001b[1mi\u001b[22m\u001b[0m\u001b[1mg\u001b[22mvals!\n",
      "\n",
      "Couldn't find \u001b[36meig\u001b[39m\n",
      "Perhaps you meant big, eigen, ceil, reim, edit, exit, eof, eps, esc, exp or end\n"
     ]
    },
    {
     "data": {
      "text/latex": [
       "No documentation found.\n",
       "\n",
       "Binding \\texttt{eig} does not exist.\n",
       "\n"
      ],
      "text/markdown": [
       "No documentation found.\n",
       "\n",
       "Binding `eig` does not exist.\n"
      ],
      "text/plain": [
       "  No documentation found.\n",
       "\n",
       "  Binding \u001b[36meig\u001b[39m does not exist."
      ]
     },
     "execution_count": 111,
     "metadata": {},
     "output_type": "execute_result"
    }
   ],
   "source": [
    "?eig"
   ]
  },
  {
   "cell_type": "code",
   "execution_count": 112,
   "metadata": {},
   "outputs": [
    {
     "data": {
      "text/plain": [
       "3-element Array{Float64,1}:\n",
       " 27.0\n",
       "  4.0\n",
       "  1.0"
      ]
     },
     "execution_count": 112,
     "metadata": {},
     "output_type": "execute_result"
    }
   ],
   "source": [
    "eigvals(A)"
   ]
  },
  {
   "cell_type": "code",
   "execution_count": 114,
   "metadata": {},
   "outputs": [
    {
     "data": {
      "text/plain": [
       "3-element Array{Int64,1}:\n",
       "  1\n",
       "  4\n",
       " 27"
      ]
     },
     "execution_count": 114,
     "metadata": {},
     "output_type": "execute_result"
    }
   ],
   "source": [
    "diag(A)"
   ]
  },
  {
   "cell_type": "markdown",
   "metadata": {},
   "source": [
    "They are the same. With simple gaussian elimination all values except those which are on a diagonal can be wiped out. After such operation we get a diagonal matrix. Eigenvalues of a diagonal matrix are their diagonal values."
   ]
  },
  {
   "cell_type": "code",
   "execution_count": 115,
   "metadata": {},
   "outputs": [
    {
     "data": {
      "text/plain": [
       "3×3 Array{Int64,2}:\n",
       "   1    0    0\n",
       "  10   16    0\n",
       " 102  279  729"
      ]
     },
     "execution_count": 115,
     "metadata": {},
     "output_type": "execute_result"
    }
   ],
   "source": [
    "C = A * A"
   ]
  },
  {
   "cell_type": "code",
   "execution_count": 118,
   "metadata": {},
   "outputs": [
    {
     "data": {
      "text/plain": [
       "3-element Array{Float64,1}:\n",
       " 729.0\n",
       "  16.0\n",
       "   1.0"
      ]
     },
     "execution_count": 118,
     "metadata": {},
     "output_type": "execute_result"
    }
   ],
   "source": [
    "eigvals(C)"
   ]
  },
  {
   "cell_type": "code",
   "execution_count": 119,
   "metadata": {},
   "outputs": [
    {
     "data": {
      "text/plain": [
       "3-element Array{Int64,1}:\n",
       "   1\n",
       "  16\n",
       " 729"
      ]
     },
     "execution_count": 119,
     "metadata": {},
     "output_type": "execute_result"
    }
   ],
   "source": [
    "diag(C)"
   ]
  },
  {
   "cell_type": "code",
   "execution_count": 131,
   "metadata": {},
   "outputs": [
    {
     "name": "stdout",
     "output_type": "stream",
     "text": [
      "C = A * A * A, eigvals: [19683.0, 64.0, 1.0], diag: [1, 64, 19683]\n",
      "C = A ^ 4, eigvals: [531441.0, 256.0, 1.0], diag: [1, 256, 531441]\n",
      "C = A ^ 5, eigvals: [1.43489e7, 1024.0, 1.0], diag: [1, 1024, 14348907]\n",
      "C = A ^ 6, eigvals: [3.8742e8, 4096.0, 1.0], diag: [1, 4096, 387420489]\n"
     ]
    }
   ],
   "source": [
    "C = A * A * A\n",
    "println(\"C = A * A * A, eigvals: \", eigvals(C), \", diag: \", diag(C))\n",
    "println(\"C = A ^ 4, eigvals: \", eigvals(A ^ 4), \", diag: \", diag(A ^ 4))\n",
    "println(\"C = A ^ 5, eigvals: \", eigvals(A ^ 5), \", diag: \", diag(A ^ 5))\n",
    "println(\"C = A ^ 6, eigvals: \", eigvals(A ^ 6), \", diag: \", diag(A ^ 6))"
   ]
  },
  {
   "cell_type": "markdown",
   "metadata": {},
   "source": [
    "#### Upper triangular"
   ]
  },
  {
   "cell_type": "code",
   "execution_count": 132,
   "metadata": {},
   "outputs": [],
   "source": [
    "A = [1 2 3; 0 4 8; 0 0 27];"
   ]
  },
  {
   "cell_type": "code",
   "execution_count": 133,
   "metadata": {},
   "outputs": [
    {
     "name": "stdout",
     "output_type": "stream",
     "text": [
      "C = A * A * A, eigvals: [1.0, 64.0, 19683.0], diag: [1, 64, 19683]\n",
      "C = A ^ 4, eigvals: [1.0, 256.0, 531441.0], diag: [1, 256, 531441]\n",
      "C = A ^ 5, eigvals: [1.0, 1024.0, 1.43489e7], diag: [1, 1024, 14348907]\n",
      "C = A ^ 6, eigvals: [1.0, 4096.0, 3.8742e8], diag: [1, 4096, 387420489]\n"
     ]
    }
   ],
   "source": [
    "C = A * A * A\n",
    "println(\"C = A * A * A, eigvals: \", eigvals(C), \", diag: \", diag(C))\n",
    "println(\"C = A ^ 4, eigvals: \", eigvals(A ^ 4), \", diag: \", diag(A ^ 4))\n",
    "println(\"C = A ^ 5, eigvals: \", eigvals(A ^ 5), \", diag: \", diag(A ^ 5))\n",
    "println(\"C = A ^ 6, eigvals: \", eigvals(A ^ 6), \", diag: \", diag(A ^ 6))"
   ]
  },
  {
   "cell_type": "markdown",
   "metadata": {},
   "source": [
    "## Permutation matrix"
   ]
  },
  {
   "cell_type": "code",
   "execution_count": 138,
   "metadata": {},
   "outputs": [
    {
     "data": {
      "text/plain": [
       "3×3 Array{Int64,2}:\n",
       " 1  2   3\n",
       " 2  4   8\n",
       " 3  9  27"
      ]
     },
     "execution_count": 138,
     "metadata": {},
     "output_type": "execute_result"
    }
   ],
   "source": [
    "P = [0 1 0; 1 0 0; 0 0 1];\n",
    "A = [1 2 3; 2 4 8; 3 9 27]"
   ]
  },
  {
   "cell_type": "code",
   "execution_count": 135,
   "metadata": {},
   "outputs": [
    {
     "data": {
      "text/plain": [
       "3×3 Array{Int64,2}:\n",
       " 2  1   3\n",
       " 4  2   8\n",
       " 9  3  27"
      ]
     },
     "execution_count": 135,
     "metadata": {},
     "output_type": "execute_result"
    }
   ],
   "source": [
    "A * P"
   ]
  },
  {
   "cell_type": "markdown",
   "metadata": {},
   "source": [
    "Multiplying a matrix A by a permutation matrix columns of the matrix can be permuted. "
   ]
  },
  {
   "cell_type": "code",
   "execution_count": 136,
   "metadata": {},
   "outputs": [
    {
     "data": {
      "text/plain": [
       "3×3 Array{Int64,2}:\n",
       " 2  4   8\n",
       " 1  2   3\n",
       " 3  9  27"
      ]
     },
     "execution_count": 136,
     "metadata": {},
     "output_type": "execute_result"
    }
   ],
   "source": [
    "P * A"
   ]
  },
  {
   "cell_type": "markdown",
   "metadata": {},
   "source": [
    "On the other hand, multiplying a permutation matrix by any matrix A permutes rows of A."
   ]
  },
  {
   "cell_type": "code",
   "execution_count": 139,
   "metadata": {},
   "outputs": [
    {
     "data": {
      "text/plain": [
       "3×3 Array{Int64,2}:\n",
       " 1  0  0\n",
       " 0  1  0\n",
       " 0  0  1"
      ]
     },
     "execution_count": 139,
     "metadata": {},
     "output_type": "execute_result"
    }
   ],
   "source": [
    "P * P"
   ]
  },
  {
   "cell_type": "markdown",
   "metadata": {},
   "source": [
    "Identity. Composing two permutations in this case will lead to getting an input array."
   ]
  },
  {
   "cell_type": "code",
   "execution_count": 140,
   "metadata": {},
   "outputs": [
    {
     "data": {
      "text/plain": [
       "3×3 Array{Int64,2}:\n",
       " 1  0  0\n",
       " 0  1  0\n",
       " 0  0  1"
      ]
     },
     "execution_count": 140,
     "metadata": {},
     "output_type": "execute_result"
    }
   ],
   "source": [
    "P = [0 0 1; 0 1 0; 1 0 0];\n",
    "P * P"
   ]
  },
  {
   "cell_type": "code",
   "execution_count": 141,
   "metadata": {},
   "outputs": [
    {
     "data": {
      "text/plain": [
       "3×3 Array{Int64,2}:\n",
       " 3  9  27\n",
       " 2  4   8\n",
       " 1  2   3"
      ]
     },
     "execution_count": 141,
     "metadata": {},
     "output_type": "execute_result"
    }
   ],
   "source": [
    "P * A"
   ]
  },
  {
   "cell_type": "markdown",
   "metadata": {},
   "source": [
    "## Matrix-vector operations"
   ]
  },
  {
   "cell_type": "code",
   "execution_count": 142,
   "metadata": {},
   "outputs": [],
   "source": [
    "A = [1 2 3; 2 4 8; 3 9 27];\n",
    "b = [1; 1; 1];"
   ]
  },
  {
   "cell_type": "code",
   "execution_count": 143,
   "metadata": {},
   "outputs": [
    {
     "data": {
      "text/plain": [
       "3-element Array{Float64,1}:\n",
       " -2.1666666666666665\n",
       "  2.3333333333333335\n",
       " -0.5               "
      ]
     },
     "execution_count": 143,
     "metadata": {},
     "output_type": "execute_result"
    }
   ],
   "source": [
    "x = A \\ b"
   ]
  },
  {
   "cell_type": "code",
   "execution_count": 146,
   "metadata": {},
   "outputs": [
    {
     "data": {
      "text/plain": [
       "3-element Array{Float64,1}:\n",
       " 1.0000000000000004\n",
       " 1.0000000000000009\n",
       " 1.0               "
      ]
     },
     "execution_count": 146,
     "metadata": {},
     "output_type": "execute_result"
    }
   ],
   "source": [
    "A * x"
   ]
  },
  {
   "cell_type": "code",
   "execution_count": 151,
   "metadata": {},
   "outputs": [
    {
     "data": {
      "text/plain": [
       "LU{Float64,Array{Float64,2}}\n",
       "L factor:\n",
       "3×3 Array{Float64,2}:\n",
       " 1.0       0.0  0.0\n",
       " 0.666667  1.0  0.0\n",
       " 0.333333  0.5  1.0\n",
       "U factor:\n",
       "3×3 Array{Float64,2}:\n",
       " 3.0   9.0   27.0\n",
       " 0.0  -2.0  -10.0\n",
       " 0.0   0.0   -1.0"
      ]
     },
     "execution_count": 151,
     "metadata": {},
     "output_type": "execute_result"
    }
   ],
   "source": [
    "lu_A = lu(A)"
   ]
  },
  {
   "cell_type": "code",
   "execution_count": 152,
   "metadata": {},
   "outputs": [
    {
     "data": {
      "text/plain": [
       "3-element Array{Float64,1}:\n",
       " -2.1666666666666665\n",
       "  2.3333333333333335\n",
       " -0.5               "
      ]
     },
     "execution_count": 152,
     "metadata": {},
     "output_type": "execute_result"
    }
   ],
   "source": [
    "lu_A \\ b"
   ]
  },
  {
   "cell_type": "code",
   "execution_count": 165,
   "metadata": {},
   "outputs": [],
   "source": [
    "using SparseArrays"
   ]
  },
  {
   "cell_type": "code",
   "execution_count": 223,
   "metadata": {},
   "outputs": [
    {
     "data": {
      "image/svg+xml": [
       "<?xml version=\"1.0\" encoding=\"utf-8\"?>\n",
       "<svg xmlns=\"http://www.w3.org/2000/svg\" xmlns:xlink=\"http://www.w3.org/1999/xlink\" width=\"300\" height=\"300\" viewBox=\"0 0 1200 1200\">\n",
       "<defs>\n",
       "  <clipPath id=\"clip7300\">\n",
       "    <rect x=\"0\" y=\"0\" width=\"2000\" height=\"2000\"/>\n",
       "  </clipPath>\n",
       "</defs>\n",
       "<defs>\n",
       "  <clipPath id=\"clip7301\">\n",
       "    <rect x=\"0\" y=\"0\" width=\"1200\" height=\"1200\"/>\n",
       "  </clipPath>\n",
       "</defs>\n",
       "<polygon clip-path=\"url(#clip7301)\" points=\"\n",
       "0,1200 1200,1200 1200,0 0,0 \n",
       "  \" fill=\"#ffffff\" fill-rule=\"evenodd\" fill-opacity=\"1\"/>\n",
       "<defs>\n",
       "  <clipPath id=\"clip7302\">\n",
       "    <rect x=\"240\" y=\"120\" width=\"841\" height=\"841\"/>\n",
       "  </clipPath>\n",
       "</defs>\n",
       "<polygon clip-path=\"url(#clip7301)\" points=\"\n",
       "161.394,986.909 1001.26,986.909 1001.26,147.043 161.394,147.043 \n",
       "  \" fill=\"#ffffff\" fill-rule=\"evenodd\" fill-opacity=\"1\"/>\n",
       "<defs>\n",
       "  <clipPath id=\"clip7303\">\n",
       "    <rect x=\"161\" y=\"147\" width=\"841\" height=\"841\"/>\n",
       "  </clipPath>\n",
       "</defs>\n",
       "<polyline clip-path=\"url(#clip7301)\" style=\"stroke:#000000; stroke-width:4; stroke-opacity:1; fill:none\" points=\"\n",
       "  161.394,986.909 1001.26,986.909 \n",
       "  \"/>\n",
       "<polyline clip-path=\"url(#clip7301)\" style=\"stroke:#000000; stroke-width:4; stroke-opacity:1; fill:none\" points=\"\n",
       "  161.394,147.043 161.394,986.909 \n",
       "  \"/>\n",
       "<polyline clip-path=\"url(#clip7301)\" style=\"stroke:#000000; stroke-width:4; stroke-opacity:1; fill:none\" points=\"\n",
       "  161.394,986.909 161.394,974.311 \n",
       "  \"/>\n",
       "<polyline clip-path=\"url(#clip7301)\" style=\"stroke:#000000; stroke-width:4; stroke-opacity:1; fill:none\" points=\"\n",
       "  371.36,986.909 371.36,974.311 \n",
       "  \"/>\n",
       "<polyline clip-path=\"url(#clip7301)\" style=\"stroke:#000000; stroke-width:4; stroke-opacity:1; fill:none\" points=\"\n",
       "  581.327,986.909 581.327,974.311 \n",
       "  \"/>\n",
       "<polyline clip-path=\"url(#clip7301)\" style=\"stroke:#000000; stroke-width:4; stroke-opacity:1; fill:none\" points=\"\n",
       "  791.293,986.909 791.293,974.311 \n",
       "  \"/>\n",
       "<polyline clip-path=\"url(#clip7301)\" style=\"stroke:#000000; stroke-width:4; stroke-opacity:1; fill:none\" points=\"\n",
       "  1001.26,986.909 1001.26,974.311 \n",
       "  \"/>\n",
       "<polyline clip-path=\"url(#clip7301)\" style=\"stroke:#000000; stroke-width:4; stroke-opacity:1; fill:none\" points=\"\n",
       "  161.394,147.043 173.992,147.043 \n",
       "  \"/>\n",
       "<polyline clip-path=\"url(#clip7301)\" style=\"stroke:#000000; stroke-width:4; stroke-opacity:1; fill:none\" points=\"\n",
       "  161.394,357.01 173.992,357.01 \n",
       "  \"/>\n",
       "<polyline clip-path=\"url(#clip7301)\" style=\"stroke:#000000; stroke-width:4; stroke-opacity:1; fill:none\" points=\"\n",
       "  161.394,566.976 173.992,566.976 \n",
       "  \"/>\n",
       "<polyline clip-path=\"url(#clip7301)\" style=\"stroke:#000000; stroke-width:4; stroke-opacity:1; fill:none\" points=\"\n",
       "  161.394,776.943 173.992,776.943 \n",
       "  \"/>\n",
       "<polyline clip-path=\"url(#clip7301)\" style=\"stroke:#000000; stroke-width:4; stroke-opacity:1; fill:none\" points=\"\n",
       "  161.394,986.909 173.992,986.909 \n",
       "  \"/>\n",
       "<g clip-path=\"url(#clip7301)\">\n",
       "<text style=\"fill:#000000; fill-opacity:1; font-family:Arial,Helvetica Neue,Helvetica,sans-serif; font-size:48px; text-anchor:middle;\" transform=\"rotate(0, 161.394, 1034.91)\" x=\"161.394\" y=\"1034.91\">1.0</text>\n",
       "</g>\n",
       "<g clip-path=\"url(#clip7301)\">\n",
       "<text style=\"fill:#000000; fill-opacity:1; font-family:Arial,Helvetica Neue,Helvetica,sans-serif; font-size:48px; text-anchor:middle;\" transform=\"rotate(0, 371.36, 1034.91)\" x=\"371.36\" y=\"1034.91\">1.5</text>\n",
       "</g>\n",
       "<g clip-path=\"url(#clip7301)\">\n",
       "<text style=\"fill:#000000; fill-opacity:1; font-family:Arial,Helvetica Neue,Helvetica,sans-serif; font-size:48px; text-anchor:middle;\" transform=\"rotate(0, 581.327, 1034.91)\" x=\"581.327\" y=\"1034.91\">2.0</text>\n",
       "</g>\n",
       "<g clip-path=\"url(#clip7301)\">\n",
       "<text style=\"fill:#000000; fill-opacity:1; font-family:Arial,Helvetica Neue,Helvetica,sans-serif; font-size:48px; text-anchor:middle;\" transform=\"rotate(0, 791.293, 1034.91)\" x=\"791.293\" y=\"1034.91\">2.5</text>\n",
       "</g>\n",
       "<g clip-path=\"url(#clip7301)\">\n",
       "<text style=\"fill:#000000; fill-opacity:1; font-family:Arial,Helvetica Neue,Helvetica,sans-serif; font-size:48px; text-anchor:middle;\" transform=\"rotate(0, 1001.26, 1034.91)\" x=\"1001.26\" y=\"1034.91\">3.0</text>\n",
       "</g>\n",
       "<g clip-path=\"url(#clip7301)\">\n",
       "<text style=\"fill:#000000; fill-opacity:1; font-family:Arial,Helvetica Neue,Helvetica,sans-serif; font-size:48px; text-anchor:end;\" transform=\"rotate(0, 149.394, 164.543)\" x=\"149.394\" y=\"164.543\">1.0</text>\n",
       "</g>\n",
       "<g clip-path=\"url(#clip7301)\">\n",
       "<text style=\"fill:#000000; fill-opacity:1; font-family:Arial,Helvetica Neue,Helvetica,sans-serif; font-size:48px; text-anchor:end;\" transform=\"rotate(0, 149.394, 374.51)\" x=\"149.394\" y=\"374.51\">1.5</text>\n",
       "</g>\n",
       "<g clip-path=\"url(#clip7301)\">\n",
       "<text style=\"fill:#000000; fill-opacity:1; font-family:Arial,Helvetica Neue,Helvetica,sans-serif; font-size:48px; text-anchor:end;\" transform=\"rotate(0, 149.394, 584.476)\" x=\"149.394\" y=\"584.476\">2.0</text>\n",
       "</g>\n",
       "<g clip-path=\"url(#clip7301)\">\n",
       "<text style=\"fill:#000000; fill-opacity:1; font-family:Arial,Helvetica Neue,Helvetica,sans-serif; font-size:48px; text-anchor:end;\" transform=\"rotate(0, 149.394, 794.443)\" x=\"149.394\" y=\"794.443\">2.5</text>\n",
       "</g>\n",
       "<g clip-path=\"url(#clip7301)\">\n",
       "<text style=\"fill:#000000; fill-opacity:1; font-family:Arial,Helvetica Neue,Helvetica,sans-serif; font-size:48px; text-anchor:end;\" transform=\"rotate(0, 149.394, 1004.41)\" x=\"149.394\" y=\"1004.41\">3.0</text>\n",
       "</g>\n",
       "<circle clip-path=\"url(#clip7303)\" style=\"fill:#7f1e6b; stroke:none; fill-opacity:1\" cx=\"161.394\" cy=\"147.043\" r=\"36\"/>\n",
       "<circle clip-path=\"url(#clip7303)\" style=\"fill:#bf3951; stroke:none; fill-opacity:1\" cx=\"581.327\" cy=\"147.043\" r=\"36\"/>\n",
       "<circle clip-path=\"url(#clip7303)\" style=\"fill:#490b6a; stroke:none; fill-opacity:1\" cx=\"581.327\" cy=\"566.976\" r=\"36\"/>\n",
       "<circle clip-path=\"url(#clip7303)\" style=\"fill:#fcfea4; stroke:none; fill-opacity:1\" cx=\"1001.26\" cy=\"147.043\" r=\"36\"/>\n",
       "<circle clip-path=\"url(#clip7303)\" style=\"fill:#000003; stroke:none; fill-opacity:1\" cx=\"1001.26\" cy=\"566.976\" r=\"36\"/>\n",
       "<circle clip-path=\"url(#clip7303)\" style=\"fill:#540e6d; stroke:none; fill-opacity:1\" cx=\"1001.26\" cy=\"986.909\" r=\"36\"/>\n",
       "<defs>\n",
       "  <clipPath id=\"clip7304\">\n",
       "    <rect x=\"1025\" y=\"147\" width=\"37\" height=\"841\"/>\n",
       "  </clipPath>\n",
       "</defs>\n",
       "<g clip-path=\"url(#clip7304)\">\n",
       "<image width=\"36\" height=\"840\" xlink:href=\"data:image/png;base64,\n",
       "iVBORw0KGgoAAAANSUhEUgAAACQAAANICAYAAACv3k0kAAAFLklEQVR4nO3csZXcMBDAUMpv+q/C\n",
       "XdpHOpYDIhQC/ArwxB2S2j37+bt/nyXy6+uA/xVEZp+/Xze86J6QLmhOS3anC5qzW7KrgkhjT3RB\n",
       "LRnRBbVkRBfU4UoKIo090QW1ZEQXNKud+q4g0meI6IJmtVPf6YKaMqILaslIQWTW/vN1w4vuCemC\n",
       "OlyJLqidmhRE+gwRXdA85+frhhfdE9IFzdot2ZUuaJ6W7K4g0tgTXdCsDtc7XVA7NSmItFMTXVBj\n",
       "T3RBTRnRBc2z99cNL7onVBBp7IkuqCUjuqDuQ0QXNKvD9a4g0tgTXVCHK9EFtWSkINKrNNEFdUEj\n",
       "uqB2aqILaspIQaTPENEFdR8iuqAOV1IQaacmuqCWjOiCWjKiC5q1Vf8Lq+8JFURmncb+ShfUTk10\n",
       "Qe3UpCDS2BNdUEtGdEHt1EQX1JSRgsgs10fI94R0QS0Z0QWN7LsG3xMqiDT2RBfUkhFdUEtGdEGz\n",
       "XC+uvidUEJmzn68bXnRPSBfUTk10QbOasjtd0JzTkl0VRBp7ogtqyYguqJ2aFEQae6ILmrVdTa6a\n",
       "JQxqpya6oDZGUhDpO0aiC5p1XE2umiUMaspIQaTPENEF9RpEdEG9BhFdUK9BpCAyp536ThfUTk10\n",
       "Qe3UpCDSTk10Qe3URBfUlw1EFzSnr4XvCiJd0IguqJ2a6IK6D5GCSK9BRBfU2BNdUIcr0QU1ZaQg\n",
       "0uFKdEGNPdEFdbgSXVBTRgoiHa5EF9TYE11QS0YKIn2GiC6oOzXRBc3ud/s7XVAbIymItFMTXVBj\n",
       "T3RBLRkpiPQZIrqglozogma3ZHe6oKaMFET6DBFdUEtGdEEtGSmI9BkiuqDu1EQX1JQRXVBLRgoi\n",
       "/QhMdEGNPdEFdR8iBZHGnuiCGnuiC2rKiC6oJSMFkXZqoguas1qyK11QU0Z0QR2upCAy+3yd8KZ7\n",
       "Qrqgxp7ogjpcSUFkdnfqO11QOzXRBbVTE11QU0YKIrO/LviP7gnpghp7ogvqcCUFkX5aILqgxp7o\n",
       "gvpamOiC2hhJQaQ7NdEF9eZKdEFNGSmINPZEF9TYE11Qb65EFzSyF1ffEyqINPZEF9TYE11QU0YK\n",
       "Io090QU19kQX1K9BRBfUr0GkINLYE11Q/0iA6ILmNGV3uqCusKQg0psr0QV1HyK6oO5DpCDSBY3o\n",
       "gvrrGKIL6k5NdEFtjKQg0k5NdEGNPdEF9RpECiJ9+0F0QX3HSHRBTRnRBbVkpCDSn+sQXVBjT3RB\n",
       "3YdIQaSxJ7qglozogtqpiS6oKSMFkX4NIrqgfg0iuqB2alIQ6YJGdEGNPdEFzVmuNdM9IV1QU0YK\n",
       "Ih2uRBfU2BNdUFNGdEFNGSmI9IUV0QXN7jXoThfUlJGCSGNPdEH9gEd0QXNkW7XuCemCmjJSEOlV\n",
       "muiC+jWI6IKaMlIQ6TWI6ILaqYkuqCkjuqCWjBREZvftx50uqMOV6ILaqUlBpM8Q0QW1ZEQXNGe5\n",
       "flzQPSFdUFNGCiKzn8b+Shc0u536ThfUkpGCSBc0ogua/XRBu9IFtVMTXVBLRgoiHa5EFzR7/Xzd\n",
       "8KJ7QrqgdmqiC5rTlN0VRBp7ogtqyYguqJ2aFEQae6ILauyJLqgvG4guaPZpya4KIo090QXNaezv\n",
       "dEFNGSmIdKcmuqAuaEQX1E5NdEHdh0hBpMOV6IIae6IL6nAlBZHGnuiCOlyJLqgpI7qgDldSEJlz\n",
       "2qmvdEGNPdEFzep/+boriMxq7O90Qd2piS6oKSO6oO5DpCAyq536ThfU2BNdUIcr0QX9A/bx65/v\n",
       "9+utAAAAAElFTkSuQmCC\n",
       "\" transform=\"translate(1025, 147)\"/>\n",
       "</g>\n",
       "<g clip-path=\"url(#clip7301)\">\n",
       "<text style=\"fill:#000000; fill-opacity:1; font-family:Arial,Helvetica Neue,Helvetica,sans-serif; font-size:48px; text-anchor:start;\" transform=\"rotate(0, 1079.26, 1000.56)\" x=\"1079.26\" y=\"1000.56\">-</text>\n",
       "</g>\n",
       "<g clip-path=\"url(#clip7301)\">\n",
       "<text style=\"fill:#000000; fill-opacity:1; font-family:Arial,Helvetica Neue,Helvetica,sans-serif; font-size:48px; text-anchor:start;\" transform=\"rotate(0, 1107.37, 1000.56)\" x=\"1107.37\" y=\"1000.56\">10</text>\n",
       "</g>\n",
       "<g clip-path=\"url(#clip7301)\">\n",
       "<text style=\"fill:#000000; fill-opacity:1; font-family:Arial,Helvetica Neue,Helvetica,sans-serif; font-size:48px; text-anchor:start;\" transform=\"rotate(0, 1079.26, 887.065)\" x=\"1079.26\" y=\"887.065\">-</text>\n",
       "</g>\n",
       "<g clip-path=\"url(#clip7301)\">\n",
       "<text style=\"fill:#000000; fill-opacity:1; font-family:Arial,Helvetica Neue,Helvetica,sans-serif; font-size:48px; text-anchor:start;\" transform=\"rotate(0, 1107.37, 887.065)\" x=\"1107.37\" y=\"887.065\">5</text>\n",
       "</g>\n",
       "<g clip-path=\"url(#clip7301)\">\n",
       "<text style=\"fill:#000000; fill-opacity:1; font-family:Arial,Helvetica Neue,Helvetica,sans-serif; font-size:48px; text-anchor:start;\" transform=\"rotate(0, 1079.26, 773.569)\" x=\"1079.26\" y=\"773.569\">0</text>\n",
       "</g>\n",
       "<g clip-path=\"url(#clip7301)\">\n",
       "<text style=\"fill:#000000; fill-opacity:1; font-family:Arial,Helvetica Neue,Helvetica,sans-serif; font-size:48px; text-anchor:start;\" transform=\"rotate(0, 1079.26, 660.074)\" x=\"1079.26\" y=\"660.074\">5</text>\n",
       "</g>\n",
       "<g clip-path=\"url(#clip7301)\">\n",
       "<text style=\"fill:#000000; fill-opacity:1; font-family:Arial,Helvetica Neue,Helvetica,sans-serif; font-size:48px; text-anchor:start;\" transform=\"rotate(0, 1079.26, 546.579)\" x=\"1079.26\" y=\"546.579\">10</text>\n",
       "</g>\n",
       "<g clip-path=\"url(#clip7301)\">\n",
       "<text style=\"fill:#000000; fill-opacity:1; font-family:Arial,Helvetica Neue,Helvetica,sans-serif; font-size:48px; text-anchor:start;\" transform=\"rotate(0, 1079.26, 433.083)\" x=\"1079.26\" y=\"433.083\">15</text>\n",
       "</g>\n",
       "<g clip-path=\"url(#clip7301)\">\n",
       "<text style=\"fill:#000000; fill-opacity:1; font-family:Arial,Helvetica Neue,Helvetica,sans-serif; font-size:48px; text-anchor:start;\" transform=\"rotate(0, 1079.26, 319.588)\" x=\"1079.26\" y=\"319.588\">20</text>\n",
       "</g>\n",
       "<g clip-path=\"url(#clip7301)\">\n",
       "<text style=\"fill:#000000; fill-opacity:1; font-family:Arial,Helvetica Neue,Helvetica,sans-serif; font-size:48px; text-anchor:start;\" transform=\"rotate(0, 1079.26, 206.093)\" x=\"1079.26\" y=\"206.093\">25</text>\n",
       "</g>\n",
       "<polyline clip-path=\"url(#clip7301)\" style=\"stroke:#000000; stroke-width:4; stroke-opacity:1; fill:none\" points=\"\n",
       "  1061.26,986.909 1061.26,986.909 1073.26,986.909 1061.26,986.909 1061.26,873.414 1073.26,873.414 1061.26,873.414 1061.26,759.918 1073.26,759.918 1061.26,759.918 \n",
       "  1061.26,646.423 1073.26,646.423 1061.26,646.423 1061.26,532.928 1073.26,532.928 1061.26,532.928 1061.26,419.432 1073.26,419.432 1061.26,419.432 1061.26,305.937 \n",
       "  1073.26,305.937 1061.26,305.937 1061.26,192.441 1073.26,192.441 1061.26,192.441 1061.26,147.043 \n",
       "  \"/>\n",
       "<g clip-path=\"url(#clip7301)\">\n",
       "<text style=\"fill:#000000; fill-opacity:1; font-family:Arial,Helvetica Neue,Helvetica,sans-serif; font-size:66px; text-anchor:middle;\" transform=\"rotate(-90, 1178.86, 566.976)\" x=\"1178.86\" y=\"566.976\"></text>\n",
       "</g>\n",
       "</svg>\n"
      ]
     },
     "execution_count": 223,
     "metadata": {},
     "output_type": "execute_result"
    }
   ],
   "source": [
    "spy(sparse(lu_A.U), markersize = 10, size = (300, 300))"
   ]
  },
  {
   "cell_type": "code",
   "execution_count": 224,
   "metadata": {},
   "outputs": [
    {
     "data": {
      "image/svg+xml": [
       "<?xml version=\"1.0\" encoding=\"utf-8\"?>\n",
       "<svg xmlns=\"http://www.w3.org/2000/svg\" xmlns:xlink=\"http://www.w3.org/1999/xlink\" width=\"300\" height=\"300\" viewBox=\"0 0 1200 1200\">\n",
       "<defs>\n",
       "  <clipPath id=\"clip7500\">\n",
       "    <rect x=\"0\" y=\"0\" width=\"2000\" height=\"2000\"/>\n",
       "  </clipPath>\n",
       "</defs>\n",
       "<defs>\n",
       "  <clipPath id=\"clip7501\">\n",
       "    <rect x=\"0\" y=\"0\" width=\"1200\" height=\"1200\"/>\n",
       "  </clipPath>\n",
       "</defs>\n",
       "<polygon clip-path=\"url(#clip7501)\" points=\"\n",
       "0,1200 1200,1200 1200,0 0,0 \n",
       "  \" fill=\"#ffffff\" fill-rule=\"evenodd\" fill-opacity=\"1\"/>\n",
       "<defs>\n",
       "  <clipPath id=\"clip7502\">\n",
       "    <rect x=\"240\" y=\"120\" width=\"841\" height=\"841\"/>\n",
       "  </clipPath>\n",
       "</defs>\n",
       "<polygon clip-path=\"url(#clip7501)\" points=\"\n",
       "161.394,986.909 1001.26,986.909 1001.26,147.043 161.394,147.043 \n",
       "  \" fill=\"#ffffff\" fill-rule=\"evenodd\" fill-opacity=\"1\"/>\n",
       "<defs>\n",
       "  <clipPath id=\"clip7503\">\n",
       "    <rect x=\"161\" y=\"147\" width=\"841\" height=\"841\"/>\n",
       "  </clipPath>\n",
       "</defs>\n",
       "<polyline clip-path=\"url(#clip7501)\" style=\"stroke:#000000; stroke-width:4; stroke-opacity:1; fill:none\" points=\"\n",
       "  161.394,986.909 1001.26,986.909 \n",
       "  \"/>\n",
       "<polyline clip-path=\"url(#clip7501)\" style=\"stroke:#000000; stroke-width:4; stroke-opacity:1; fill:none\" points=\"\n",
       "  161.394,147.043 161.394,986.909 \n",
       "  \"/>\n",
       "<polyline clip-path=\"url(#clip7501)\" style=\"stroke:#000000; stroke-width:4; stroke-opacity:1; fill:none\" points=\"\n",
       "  161.394,986.909 161.394,974.311 \n",
       "  \"/>\n",
       "<polyline clip-path=\"url(#clip7501)\" style=\"stroke:#000000; stroke-width:4; stroke-opacity:1; fill:none\" points=\"\n",
       "  371.36,986.909 371.36,974.311 \n",
       "  \"/>\n",
       "<polyline clip-path=\"url(#clip7501)\" style=\"stroke:#000000; stroke-width:4; stroke-opacity:1; fill:none\" points=\"\n",
       "  581.327,986.909 581.327,974.311 \n",
       "  \"/>\n",
       "<polyline clip-path=\"url(#clip7501)\" style=\"stroke:#000000; stroke-width:4; stroke-opacity:1; fill:none\" points=\"\n",
       "  791.293,986.909 791.293,974.311 \n",
       "  \"/>\n",
       "<polyline clip-path=\"url(#clip7501)\" style=\"stroke:#000000; stroke-width:4; stroke-opacity:1; fill:none\" points=\"\n",
       "  1001.26,986.909 1001.26,974.311 \n",
       "  \"/>\n",
       "<polyline clip-path=\"url(#clip7501)\" style=\"stroke:#000000; stroke-width:4; stroke-opacity:1; fill:none\" points=\"\n",
       "  161.394,147.043 173.992,147.043 \n",
       "  \"/>\n",
       "<polyline clip-path=\"url(#clip7501)\" style=\"stroke:#000000; stroke-width:4; stroke-opacity:1; fill:none\" points=\"\n",
       "  161.394,357.01 173.992,357.01 \n",
       "  \"/>\n",
       "<polyline clip-path=\"url(#clip7501)\" style=\"stroke:#000000; stroke-width:4; stroke-opacity:1; fill:none\" points=\"\n",
       "  161.394,566.976 173.992,566.976 \n",
       "  \"/>\n",
       "<polyline clip-path=\"url(#clip7501)\" style=\"stroke:#000000; stroke-width:4; stroke-opacity:1; fill:none\" points=\"\n",
       "  161.394,776.943 173.992,776.943 \n",
       "  \"/>\n",
       "<polyline clip-path=\"url(#clip7501)\" style=\"stroke:#000000; stroke-width:4; stroke-opacity:1; fill:none\" points=\"\n",
       "  161.394,986.909 173.992,986.909 \n",
       "  \"/>\n",
       "<g clip-path=\"url(#clip7501)\">\n",
       "<text style=\"fill:#000000; fill-opacity:1; font-family:Arial,Helvetica Neue,Helvetica,sans-serif; font-size:48px; text-anchor:middle;\" transform=\"rotate(0, 161.394, 1034.91)\" x=\"161.394\" y=\"1034.91\">1.0</text>\n",
       "</g>\n",
       "<g clip-path=\"url(#clip7501)\">\n",
       "<text style=\"fill:#000000; fill-opacity:1; font-family:Arial,Helvetica Neue,Helvetica,sans-serif; font-size:48px; text-anchor:middle;\" transform=\"rotate(0, 371.36, 1034.91)\" x=\"371.36\" y=\"1034.91\">1.5</text>\n",
       "</g>\n",
       "<g clip-path=\"url(#clip7501)\">\n",
       "<text style=\"fill:#000000; fill-opacity:1; font-family:Arial,Helvetica Neue,Helvetica,sans-serif; font-size:48px; text-anchor:middle;\" transform=\"rotate(0, 581.327, 1034.91)\" x=\"581.327\" y=\"1034.91\">2.0</text>\n",
       "</g>\n",
       "<g clip-path=\"url(#clip7501)\">\n",
       "<text style=\"fill:#000000; fill-opacity:1; font-family:Arial,Helvetica Neue,Helvetica,sans-serif; font-size:48px; text-anchor:middle;\" transform=\"rotate(0, 791.293, 1034.91)\" x=\"791.293\" y=\"1034.91\">2.5</text>\n",
       "</g>\n",
       "<g clip-path=\"url(#clip7501)\">\n",
       "<text style=\"fill:#000000; fill-opacity:1; font-family:Arial,Helvetica Neue,Helvetica,sans-serif; font-size:48px; text-anchor:middle;\" transform=\"rotate(0, 1001.26, 1034.91)\" x=\"1001.26\" y=\"1034.91\">3.0</text>\n",
       "</g>\n",
       "<g clip-path=\"url(#clip7501)\">\n",
       "<text style=\"fill:#000000; fill-opacity:1; font-family:Arial,Helvetica Neue,Helvetica,sans-serif; font-size:48px; text-anchor:end;\" transform=\"rotate(0, 149.394, 164.543)\" x=\"149.394\" y=\"164.543\">1.0</text>\n",
       "</g>\n",
       "<g clip-path=\"url(#clip7501)\">\n",
       "<text style=\"fill:#000000; fill-opacity:1; font-family:Arial,Helvetica Neue,Helvetica,sans-serif; font-size:48px; text-anchor:end;\" transform=\"rotate(0, 149.394, 374.51)\" x=\"149.394\" y=\"374.51\">1.5</text>\n",
       "</g>\n",
       "<g clip-path=\"url(#clip7501)\">\n",
       "<text style=\"fill:#000000; fill-opacity:1; font-family:Arial,Helvetica Neue,Helvetica,sans-serif; font-size:48px; text-anchor:end;\" transform=\"rotate(0, 149.394, 584.476)\" x=\"149.394\" y=\"584.476\">2.0</text>\n",
       "</g>\n",
       "<g clip-path=\"url(#clip7501)\">\n",
       "<text style=\"fill:#000000; fill-opacity:1; font-family:Arial,Helvetica Neue,Helvetica,sans-serif; font-size:48px; text-anchor:end;\" transform=\"rotate(0, 149.394, 794.443)\" x=\"149.394\" y=\"794.443\">2.5</text>\n",
       "</g>\n",
       "<g clip-path=\"url(#clip7501)\">\n",
       "<text style=\"fill:#000000; fill-opacity:1; font-family:Arial,Helvetica Neue,Helvetica,sans-serif; font-size:48px; text-anchor:end;\" transform=\"rotate(0, 149.394, 1004.41)\" x=\"149.394\" y=\"1004.41\">3.0</text>\n",
       "</g>\n",
       "<circle clip-path=\"url(#clip7503)\" style=\"fill:#fcfea4; stroke:none; fill-opacity:1\" cx=\"161.394\" cy=\"147.043\" r=\"36\"/>\n",
       "<circle clip-path=\"url(#clip7503)\" style=\"fill:#ba3654; stroke:none; fill-opacity:1\" cx=\"161.394\" cy=\"566.976\" r=\"36\"/>\n",
       "<circle clip-path=\"url(#clip7503)\" style=\"fill:#000003; stroke:none; fill-opacity:1\" cx=\"161.394\" cy=\"986.909\" r=\"36\"/>\n",
       "<circle clip-path=\"url(#clip7503)\" style=\"fill:#fcfea4; stroke:none; fill-opacity:1\" cx=\"581.327\" cy=\"566.976\" r=\"36\"/>\n",
       "<circle clip-path=\"url(#clip7503)\" style=\"fill:#570f6d; stroke:none; fill-opacity:1\" cx=\"581.327\" cy=\"986.909\" r=\"36\"/>\n",
       "<circle clip-path=\"url(#clip7503)\" style=\"fill:#fcfea4; stroke:none; fill-opacity:1\" cx=\"1001.26\" cy=\"986.909\" r=\"36\"/>\n",
       "<defs>\n",
       "  <clipPath id=\"clip7504\">\n",
       "    <rect x=\"1025\" y=\"147\" width=\"37\" height=\"841\"/>\n",
       "  </clipPath>\n",
       "</defs>\n",
       "<g clip-path=\"url(#clip7504)\">\n",
       "<image width=\"36\" height=\"840\" xlink:href=\"data:image/png;base64,\n",
       "iVBORw0KGgoAAAANSUhEUgAAACQAAANICAYAAACv3k0kAAAFLklEQVR4nO3csZXcMBDAUMpv+q/C\n",
       "XdpHOpYDIhQC/ArwxB2S2j37+bt/nyXy6+uA/xVEZp+/Xze86J6QLmhOS3anC5qzW7KrgkhjT3RB\n",
       "LRnRBbVkRBfU4UoKIo090QW1ZEQXNKud+q4g0meI6IJmtVPf6YKaMqILaslIQWTW/vN1w4vuCemC\n",
       "OlyJLqidmhRE+gwRXdA85+frhhfdE9IFzdot2ZUuaJ6W7K4g0tgTXdCsDtc7XVA7NSmItFMTXVBj\n",
       "T3RBTRnRBc2z99cNL7onVBBp7IkuqCUjuqDuQ0QXNKvD9a4g0tgTXVCHK9EFtWSkINKrNNEFdUEj\n",
       "uqB2aqILaspIQaTPENEFdR8iuqAOV1IQaacmuqCWjOiCWjKiC5q1Vf8Lq+8JFURmncb+ShfUTk10\n",
       "Qe3UpCDS2BNdUEtGdEHt1EQX1JSRgsgs10fI94R0QS0Z0QWN7LsG3xMqiDT2RBfUkhFdUEtGdEGz\n",
       "XC+uvidUEJmzn68bXnRPSBfUTk10QbOasjtd0JzTkl0VRBp7ogtqyYguqJ2aFEQae6ILmrVdTa6a\n",
       "JQxqpya6oDZGUhDpO0aiC5p1XE2umiUMaspIQaTPENEF9RpEdEG9BhFdUK9BpCAyp536ThfUTk10\n",
       "Qe3UpCDSTk10Qe3URBfUlw1EFzSnr4XvCiJd0IguqJ2a6IK6D5GCSK9BRBfU2BNdUIcr0QU1ZaQg\n",
       "0uFKdEGNPdEFdbgSXVBTRgoiHa5EF9TYE11QS0YKIn2GiC6oOzXRBc3ud/s7XVAbIymItFMTXVBj\n",
       "T3RBLRkpiPQZIrqglozogma3ZHe6oKaMFET6DBFdUEtGdEEtGSmI9BkiuqDu1EQX1JQRXVBLRgoi\n",
       "/QhMdEGNPdEFdR8iBZHGnuiCGnuiC2rKiC6oJSMFkXZqoguas1qyK11QU0Z0QR2upCAy+3yd8KZ7\n",
       "Qrqgxp7ogjpcSUFkdnfqO11QOzXRBbVTE11QU0YKIrO/LviP7gnpghp7ogvqcCUFkX5aILqgxp7o\n",
       "gvpamOiC2hhJQaQ7NdEF9eZKdEFNGSmINPZEF9TYE11Qb65EFzSyF1ffEyqINPZEF9TYE11QU0YK\n",
       "Io090QU19kQX1K9BRBfUr0GkINLYE11Q/0iA6ILmNGV3uqCusKQg0psr0QV1HyK6oO5DpCDSBY3o\n",
       "gvrrGKIL6k5NdEFtjKQg0k5NdEGNPdEF9RpECiJ9+0F0QX3HSHRBTRnRBbVkpCDSn+sQXVBjT3RB\n",
       "3YdIQaSxJ7qglozogtqpiS6oKSMFkX4NIrqgfg0iuqB2alIQ6YJGdEGNPdEFzVmuNdM9IV1QU0YK\n",
       "Ih2uRBfU2BNdUFNGdEFNGSmI9IUV0QXN7jXoThfUlJGCSGNPdEH9gEd0QXNkW7XuCemCmjJSEOlV\n",
       "muiC+jWI6IKaMlIQ6TWI6ILaqYkuqCkjuqCWjBREZvftx50uqMOV6ILaqUlBpM8Q0QW1ZEQXNGe5\n",
       "flzQPSFdUFNGCiKzn8b+Shc0u536ThfUkpGCSBc0ogua/XRBu9IFtVMTXVBLRgoiHa5EFzR7/Xzd\n",
       "8KJ7QrqgdmqiC5rTlN0VRBp7ogtqyYguqJ2aFEQae6ILauyJLqgvG4guaPZpya4KIo090QXNaezv\n",
       "dEFNGSmIdKcmuqAuaEQX1E5NdEHdh0hBpMOV6IIae6IL6nAlBZHGnuiCOlyJLqgpI7qgDldSEJlz\n",
       "2qmvdEGNPdEFzep/+boriMxq7O90Qd2piS6oKSO6oO5DpCAyq536ThfU2BNdUIcr0QX9A/bx65/v\n",
       "9+utAAAAAElFTkSuQmCC\n",
       "\" transform=\"translate(1025, 147)\"/>\n",
       "</g>\n",
       "<g clip-path=\"url(#clip7501)\">\n",
       "<text style=\"fill:#000000; fill-opacity:1; font-family:Arial,Helvetica Neue,Helvetica,sans-serif; font-size:48px; text-anchor:start;\" transform=\"rotate(0, 1079.26, 916.574)\" x=\"1079.26\" y=\"916.574\">0.4</text>\n",
       "</g>\n",
       "<g clip-path=\"url(#clip7501)\">\n",
       "<text style=\"fill:#000000; fill-opacity:1; font-family:Arial,Helvetica Neue,Helvetica,sans-serif; font-size:48px; text-anchor:start;\" transform=\"rotate(0, 1079.26, 790.594)\" x=\"1079.26\" y=\"790.594\">0.5</text>\n",
       "</g>\n",
       "<g clip-path=\"url(#clip7501)\">\n",
       "<text style=\"fill:#000000; fill-opacity:1; font-family:Arial,Helvetica Neue,Helvetica,sans-serif; font-size:48px; text-anchor:start;\" transform=\"rotate(0, 1079.26, 664.614)\" x=\"1079.26\" y=\"664.614\">0.6</text>\n",
       "</g>\n",
       "<g clip-path=\"url(#clip7501)\">\n",
       "<text style=\"fill:#000000; fill-opacity:1; font-family:Arial,Helvetica Neue,Helvetica,sans-serif; font-size:48px; text-anchor:start;\" transform=\"rotate(0, 1079.26, 538.634)\" x=\"1079.26\" y=\"538.634\">0.7</text>\n",
       "</g>\n",
       "<g clip-path=\"url(#clip7501)\">\n",
       "<text style=\"fill:#000000; fill-opacity:1; font-family:Arial,Helvetica Neue,Helvetica,sans-serif; font-size:48px; text-anchor:start;\" transform=\"rotate(0, 1079.26, 412.654)\" x=\"1079.26\" y=\"412.654\">0.8</text>\n",
       "</g>\n",
       "<g clip-path=\"url(#clip7501)\">\n",
       "<text style=\"fill:#000000; fill-opacity:1; font-family:Arial,Helvetica Neue,Helvetica,sans-serif; font-size:48px; text-anchor:start;\" transform=\"rotate(0, 1079.26, 286.674)\" x=\"1079.26\" y=\"286.674\">0.9</text>\n",
       "</g>\n",
       "<g clip-path=\"url(#clip7501)\">\n",
       "<text style=\"fill:#000000; fill-opacity:1; font-family:Arial,Helvetica Neue,Helvetica,sans-serif; font-size:48px; text-anchor:start;\" transform=\"rotate(0, 1079.26, 160.694)\" x=\"1079.26\" y=\"160.694\">1.0</text>\n",
       "</g>\n",
       "<polyline clip-path=\"url(#clip7501)\" style=\"stroke:#000000; stroke-width:4; stroke-opacity:1; fill:none\" points=\"\n",
       "  1061.26,986.909 1061.26,902.922 1073.26,902.922 1061.26,902.922 1061.26,776.943 1073.26,776.943 1061.26,776.943 1061.26,650.963 1073.26,650.963 1061.26,650.963 \n",
       "  1061.26,524.983 1073.26,524.983 1061.26,524.983 1061.26,399.003 1073.26,399.003 1061.26,399.003 1061.26,273.023 1073.26,273.023 1061.26,273.023 1061.26,147.043 \n",
       "  1073.26,147.043 1061.26,147.043 \n",
       "  \"/>\n",
       "<g clip-path=\"url(#clip7501)\">\n",
       "<text style=\"fill:#000000; fill-opacity:1; font-family:Arial,Helvetica Neue,Helvetica,sans-serif; font-size:66px; text-anchor:middle;\" transform=\"rotate(-90, 1178.86, 566.976)\" x=\"1178.86\" y=\"566.976\"></text>\n",
       "</g>\n",
       "</svg>\n"
      ]
     },
     "execution_count": 224,
     "metadata": {},
     "output_type": "execute_result"
    }
   ],
   "source": [
    "spy(sparse(lu_A.L), markersize = 10, size = (300, 300))"
   ]
  },
  {
   "cell_type": "code",
   "execution_count": 226,
   "metadata": {},
   "outputs": [
    {
     "data": {
      "text/plain": [
       "3-element Array{Float64,1}:\n",
       " -2.166666666666667 \n",
       "  2.3333333333333335\n",
       " -0.5               "
      ]
     },
     "execution_count": 226,
     "metadata": {},
     "output_type": "execute_result"
    }
   ],
   "source": [
    "inv(A) * b"
   ]
  },
  {
   "cell_type": "code",
   "execution_count": 230,
   "metadata": {},
   "outputs": [
    {
     "name": "stdout",
     "output_type": "stream",
     "text": [
      "Rank A: 3\n",
      "Rank B: 2\n",
      "Rank C: 1\n"
     ]
    }
   ],
   "source": [
    "A = [1 2 3; 2 4 8; 3 9 27]; B = [1 2 3; 2 4 8; 3 6 9]; C = [1 2 3; 2 4 6; 3 6 9];\n",
    "println(\"Rank A: \", rank(A))\n",
    "println(\"Rank B: \", rank(B))\n",
    "println(\"Rank C: \", rank(C))"
   ]
  },
  {
   "cell_type": "markdown",
   "metadata": {},
   "source": [
    "## Solving a non-linear equation"
   ]
  },
  {
   "cell_type": "code",
   "execution_count": 235,
   "metadata": {},
   "outputs": [],
   "source": [
    "A = [1 0; 2 3];\n",
    "p(x) = x^2 - 4 * x + 3;"
   ]
  },
  {
   "cell_type": "code",
   "execution_count": 241,
   "metadata": {},
   "outputs": [
    {
     "name": "stderr",
     "output_type": "stream",
     "text": [
      "┌ Info: Precompiling Polynomials [f27b6e38-b328-58d1-80ce-0feddd5e7a45]\n",
      "└ @ Base loading.jl:1192\n"
     ]
    }
   ],
   "source": [
    "using Polynomials"
   ]
  },
  {
   "cell_type": "code",
   "execution_count": 244,
   "metadata": {},
   "outputs": [
    {
     "data": {
      "text/html": [
       "3.0 &#45; 4.0&#8729;x &#43; 1.0&#8729;x^2"
      ],
      "text/latex": [
       "$3.0 - 4.0\\cdot x + 1.0\\cdot x^{2}$"
      ],
      "text/plain": [
       "Poly(3.0 - 4.0*x + 1.0*x^2)"
      ]
     },
     "execution_count": 244,
     "metadata": {},
     "output_type": "execute_result"
    }
   ],
   "source": [
    "pc = poly(A)"
   ]
  },
  {
   "cell_type": "code",
   "execution_count": 259,
   "metadata": {},
   "outputs": [
    {
     "data": {
      "image/svg+xml": [
       "<?xml version=\"1.0\" encoding=\"utf-8\"?>\n",
       "<svg xmlns=\"http://www.w3.org/2000/svg\" xmlns:xlink=\"http://www.w3.org/1999/xlink\" width=\"400\" height=\"200\" viewBox=\"0 0 1600 800\">\n",
       "<defs>\n",
       "  <clipPath id=\"clip9100\">\n",
       "    <rect x=\"0\" y=\"0\" width=\"2000\" height=\"2000\"/>\n",
       "  </clipPath>\n",
       "</defs>\n",
       "<defs>\n",
       "  <clipPath id=\"clip9101\">\n",
       "    <rect x=\"0\" y=\"0\" width=\"1600\" height=\"800\"/>\n",
       "  </clipPath>\n",
       "</defs>\n",
       "<polygon clip-path=\"url(#clip9101)\" points=\"\n",
       "0,800 1600,800 1600,0 0,0 \n",
       "  \" fill=\"#ffffff\" fill-rule=\"evenodd\" fill-opacity=\"1\"/>\n",
       "<defs>\n",
       "  <clipPath id=\"clip9102\">\n",
       "    <rect x=\"320\" y=\"0\" width=\"1121\" height=\"800\"/>\n",
       "  </clipPath>\n",
       "</defs>\n",
       "<polygon clip-path=\"url(#clip9101)\" points=\"\n",
       "174.775,711.858 1521.26,711.858 1521.26,47.2441 174.775,47.2441 \n",
       "  \" fill=\"#ffffff\" fill-rule=\"evenodd\" fill-opacity=\"1\"/>\n",
       "<defs>\n",
       "  <clipPath id=\"clip9103\">\n",
       "    <rect x=\"174\" y=\"47\" width=\"1347\" height=\"666\"/>\n",
       "  </clipPath>\n",
       "</defs>\n",
       "<polyline clip-path=\"url(#clip9103)\" style=\"stroke:#000000; stroke-width:2; stroke-opacity:0.1; fill:none\" points=\"\n",
       "  212.883,711.858 212.883,47.2441 \n",
       "  \"/>\n",
       "<polyline clip-path=\"url(#clip9103)\" style=\"stroke:#000000; stroke-width:2; stroke-opacity:0.1; fill:none\" points=\"\n",
       "  530.45,711.858 530.45,47.2441 \n",
       "  \"/>\n",
       "<polyline clip-path=\"url(#clip9103)\" style=\"stroke:#000000; stroke-width:2; stroke-opacity:0.1; fill:none\" points=\"\n",
       "  848.018,711.858 848.018,47.2441 \n",
       "  \"/>\n",
       "<polyline clip-path=\"url(#clip9103)\" style=\"stroke:#000000; stroke-width:2; stroke-opacity:0.1; fill:none\" points=\"\n",
       "  1165.58,711.858 1165.58,47.2441 \n",
       "  \"/>\n",
       "<polyline clip-path=\"url(#clip9103)\" style=\"stroke:#000000; stroke-width:2; stroke-opacity:0.1; fill:none\" points=\"\n",
       "  1483.15,711.858 1483.15,47.2441 \n",
       "  \"/>\n",
       "<polyline clip-path=\"url(#clip9103)\" style=\"stroke:#000000; stroke-width:2; stroke-opacity:0.1; fill:none\" points=\"\n",
       "  174.775,688.694 1521.26,688.694 \n",
       "  \"/>\n",
       "<polyline clip-path=\"url(#clip9103)\" style=\"stroke:#000000; stroke-width:2; stroke-opacity:0.1; fill:none\" points=\"\n",
       "  174.775,558.07 1521.26,558.07 \n",
       "  \"/>\n",
       "<polyline clip-path=\"url(#clip9103)\" style=\"stroke:#000000; stroke-width:2; stroke-opacity:0.1; fill:none\" points=\"\n",
       "  174.775,427.446 1521.26,427.446 \n",
       "  \"/>\n",
       "<polyline clip-path=\"url(#clip9103)\" style=\"stroke:#000000; stroke-width:2; stroke-opacity:0.1; fill:none\" points=\"\n",
       "  174.775,296.823 1521.26,296.823 \n",
       "  \"/>\n",
       "<polyline clip-path=\"url(#clip9103)\" style=\"stroke:#000000; stroke-width:2; stroke-opacity:0.1; fill:none\" points=\"\n",
       "  174.775,166.199 1521.26,166.199 \n",
       "  \"/>\n",
       "<polyline clip-path=\"url(#clip9101)\" style=\"stroke:#000000; stroke-width:4; stroke-opacity:1; fill:none\" points=\"\n",
       "  174.775,711.858 1521.26,711.858 \n",
       "  \"/>\n",
       "<polyline clip-path=\"url(#clip9101)\" style=\"stroke:#000000; stroke-width:4; stroke-opacity:1; fill:none\" points=\"\n",
       "  174.775,711.858 174.775,47.2441 \n",
       "  \"/>\n",
       "<polyline clip-path=\"url(#clip9101)\" style=\"stroke:#000000; stroke-width:4; stroke-opacity:1; fill:none\" points=\"\n",
       "  212.883,711.858 212.883,701.889 \n",
       "  \"/>\n",
       "<polyline clip-path=\"url(#clip9101)\" style=\"stroke:#000000; stroke-width:4; stroke-opacity:1; fill:none\" points=\"\n",
       "  530.45,711.858 530.45,701.889 \n",
       "  \"/>\n",
       "<polyline clip-path=\"url(#clip9101)\" style=\"stroke:#000000; stroke-width:4; stroke-opacity:1; fill:none\" points=\"\n",
       "  848.018,711.858 848.018,701.889 \n",
       "  \"/>\n",
       "<polyline clip-path=\"url(#clip9101)\" style=\"stroke:#000000; stroke-width:4; stroke-opacity:1; fill:none\" points=\"\n",
       "  1165.58,711.858 1165.58,701.889 \n",
       "  \"/>\n",
       "<polyline clip-path=\"url(#clip9101)\" style=\"stroke:#000000; stroke-width:4; stroke-opacity:1; fill:none\" points=\"\n",
       "  1483.15,711.858 1483.15,701.889 \n",
       "  \"/>\n",
       "<polyline clip-path=\"url(#clip9101)\" style=\"stroke:#000000; stroke-width:4; stroke-opacity:1; fill:none\" points=\"\n",
       "  174.775,688.694 194.972,688.694 \n",
       "  \"/>\n",
       "<polyline clip-path=\"url(#clip9101)\" style=\"stroke:#000000; stroke-width:4; stroke-opacity:1; fill:none\" points=\"\n",
       "  174.775,558.07 194.972,558.07 \n",
       "  \"/>\n",
       "<polyline clip-path=\"url(#clip9101)\" style=\"stroke:#000000; stroke-width:4; stroke-opacity:1; fill:none\" points=\"\n",
       "  174.775,427.446 194.972,427.446 \n",
       "  \"/>\n",
       "<polyline clip-path=\"url(#clip9101)\" style=\"stroke:#000000; stroke-width:4; stroke-opacity:1; fill:none\" points=\"\n",
       "  174.775,296.823 194.972,296.823 \n",
       "  \"/>\n",
       "<polyline clip-path=\"url(#clip9101)\" style=\"stroke:#000000; stroke-width:4; stroke-opacity:1; fill:none\" points=\"\n",
       "  174.775,166.199 194.972,166.199 \n",
       "  \"/>\n",
       "<g clip-path=\"url(#clip9101)\">\n",
       "<text style=\"fill:#000000; fill-opacity:1; font-family:Arial,Helvetica Neue,Helvetica,sans-serif; font-size:48px; text-anchor:middle;\" transform=\"rotate(0, 212.883, 761.858)\" x=\"212.883\" y=\"761.858\">-10</text>\n",
       "</g>\n",
       "<g clip-path=\"url(#clip9101)\">\n",
       "<text style=\"fill:#000000; fill-opacity:1; font-family:Arial,Helvetica Neue,Helvetica,sans-serif; font-size:48px; text-anchor:middle;\" transform=\"rotate(0, 530.45, 761.858)\" x=\"530.45\" y=\"761.858\">-5</text>\n",
       "</g>\n",
       "<g clip-path=\"url(#clip9101)\">\n",
       "<text style=\"fill:#000000; fill-opacity:1; font-family:Arial,Helvetica Neue,Helvetica,sans-serif; font-size:48px; text-anchor:middle;\" transform=\"rotate(0, 848.018, 761.858)\" x=\"848.018\" y=\"761.858\">0</text>\n",
       "</g>\n",
       "<g clip-path=\"url(#clip9101)\">\n",
       "<text style=\"fill:#000000; fill-opacity:1; font-family:Arial,Helvetica Neue,Helvetica,sans-serif; font-size:48px; text-anchor:middle;\" transform=\"rotate(0, 1165.58, 761.858)\" x=\"1165.58\" y=\"761.858\">5</text>\n",
       "</g>\n",
       "<g clip-path=\"url(#clip9101)\">\n",
       "<text style=\"fill:#000000; fill-opacity:1; font-family:Arial,Helvetica Neue,Helvetica,sans-serif; font-size:48px; text-anchor:middle;\" transform=\"rotate(0, 1483.15, 761.858)\" x=\"1483.15\" y=\"761.858\">10</text>\n",
       "</g>\n",
       "<g clip-path=\"url(#clip9101)\">\n",
       "<text style=\"fill:#000000; fill-opacity:1; font-family:Arial,Helvetica Neue,Helvetica,sans-serif; font-size:48px; text-anchor:end;\" transform=\"rotate(0, 158.775, 706.194)\" x=\"158.775\" y=\"706.194\">0</text>\n",
       "</g>\n",
       "<g clip-path=\"url(#clip9101)\">\n",
       "<text style=\"fill:#000000; fill-opacity:1; font-family:Arial,Helvetica Neue,Helvetica,sans-serif; font-size:48px; text-anchor:end;\" transform=\"rotate(0, 158.775, 575.57)\" x=\"158.775\" y=\"575.57\">30</text>\n",
       "</g>\n",
       "<g clip-path=\"url(#clip9101)\">\n",
       "<text style=\"fill:#000000; fill-opacity:1; font-family:Arial,Helvetica Neue,Helvetica,sans-serif; font-size:48px; text-anchor:end;\" transform=\"rotate(0, 158.775, 444.946)\" x=\"158.775\" y=\"444.946\">60</text>\n",
       "</g>\n",
       "<g clip-path=\"url(#clip9101)\">\n",
       "<text style=\"fill:#000000; fill-opacity:1; font-family:Arial,Helvetica Neue,Helvetica,sans-serif; font-size:48px; text-anchor:end;\" transform=\"rotate(0, 158.775, 314.323)\" x=\"158.775\" y=\"314.323\">90</text>\n",
       "</g>\n",
       "<g clip-path=\"url(#clip9101)\">\n",
       "<text style=\"fill:#000000; fill-opacity:1; font-family:Arial,Helvetica Neue,Helvetica,sans-serif; font-size:48px; text-anchor:end;\" transform=\"rotate(0, 158.775, 183.699)\" x=\"158.775\" y=\"183.699\">120</text>\n",
       "</g>\n",
       "<polyline clip-path=\"url(#clip9103)\" style=\"stroke:#009af9; stroke-width:4; stroke-opacity:1; fill:none\" points=\"\n",
       "  212.883,66.0539 225.586,86.7796 238.289,107.157 250.991,127.186 263.694,146.867 276.397,166.199 289.099,185.183 301.802,203.818 314.505,222.106 327.207,240.045 \n",
       "  339.91,257.636 352.613,274.878 365.315,291.772 378.018,308.318 390.721,324.515 403.424,340.364 416.126,355.865 428.829,371.017 441.532,385.821 454.234,400.277 \n",
       "  466.937,414.384 479.64,428.143 492.342,441.554 505.045,454.616 517.748,467.33 530.45,479.696 543.153,491.713 555.856,503.382 568.558,514.703 581.261,525.676 \n",
       "  593.964,536.3 606.667,546.575 619.369,556.503 632.072,566.082 644.775,575.313 657.477,584.195 670.18,592.729 682.883,600.915 695.585,608.752 708.288,616.241 \n",
       "  720.991,623.382 733.693,630.175 746.396,636.619 759.099,642.714 771.801,648.462 784.504,653.861 797.207,658.912 809.909,663.614 822.612,667.968 835.315,671.974 \n",
       "  848.018,675.632 860.72,678.941 873.423,681.902 886.126,684.514 898.828,686.778 911.531,688.694 924.234,690.262 936.936,691.481 949.639,692.352 962.342,692.874 \n",
       "  975.044,693.048 987.747,692.874 1000.45,692.352 1013.15,691.481 1025.86,690.262 1038.56,688.694 1051.26,686.778 1063.96,684.514 1076.67,681.902 1089.37,678.941 \n",
       "  1102.07,675.632 1114.77,671.974 1127.48,667.968 1140.18,663.614 1152.88,658.912 1165.58,653.861 1178.29,648.462 1190.99,642.714 1203.69,636.619 1216.4,630.175 \n",
       "  1229.1,623.382 1241.8,616.241 1254.5,608.752 1267.21,600.915 1279.91,592.729 1292.61,584.195 1305.31,575.313 1318.02,566.082 1330.72,556.503 1343.42,546.575 \n",
       "  1356.12,536.3 1368.83,525.676 1381.53,514.703 1394.23,503.382 1406.94,491.713 1419.64,479.696 1432.34,467.33 1445.04,454.616 1457.75,441.554 1470.45,428.143 \n",
       "  1483.15,414.384 \n",
       "  \"/>\n",
       "<polygon clip-path=\"url(#clip9101)\" points=\"\n",
       "1262.43,203.724 1473.26,203.724 1473.26,82.7641 1262.43,82.7641 \n",
       "  \" fill=\"#ffffff\" fill-rule=\"evenodd\" fill-opacity=\"1\"/>\n",
       "<polyline clip-path=\"url(#clip9101)\" style=\"stroke:#000000; stroke-width:4; stroke-opacity:1; fill:none\" points=\"\n",
       "  1262.43,203.724 1473.26,203.724 1473.26,82.7641 1262.43,82.7641 1262.43,203.724 \n",
       "  \"/>\n",
       "<polyline clip-path=\"url(#clip9101)\" style=\"stroke:#009af9; stroke-width:4; stroke-opacity:1; fill:none\" points=\"\n",
       "  1278.43,143.244 1374.43,143.244 \n",
       "  \"/>\n",
       "<g clip-path=\"url(#clip9101)\">\n",
       "<text style=\"fill:#000000; fill-opacity:1; font-family:Arial,Helvetica Neue,Helvetica,sans-serif; font-size:48px; text-anchor:start;\" transform=\"rotate(0, 1390.43, 160.744)\" x=\"1390.43\" y=\"160.744\">y1</text>\n",
       "</g>\n",
       "</svg>\n"
      ]
     },
     "execution_count": 259,
     "metadata": {},
     "output_type": "execute_result"
    }
   ],
   "source": [
    "x = -10:0.2:10;\n",
    "y = pc(x);\n",
    "\n",
    "plot(x, y, size = (400, 200))"
   ]
  },
  {
   "cell_type": "code",
   "execution_count": 257,
   "metadata": {},
   "outputs": [
    {
     "ename": "UndefVarError",
     "evalue": "UndefVarError: fsolve not defined",
     "output_type": "error",
     "traceback": [
      "UndefVarError: fsolve not defined",
      "",
      "Stacktrace:",
      " [1] top-level scope at In[257]:1"
     ]
    }
   ],
   "source": [
    "fsolve(pc)"
   ]
  },
  {
   "cell_type": "code",
   "execution_count": null,
   "metadata": {},
   "outputs": [],
   "source": []
  }
 ],
 "metadata": {
  "kernelspec": {
   "display_name": "Julia 1.0.2",
   "language": "julia",
   "name": "julia-1.0"
  },
  "language_info": {
   "file_extension": ".jl",
   "mimetype": "application/julia",
   "name": "julia",
   "version": "1.0.2"
  }
 },
 "nbformat": 4,
 "nbformat_minor": 2
}
